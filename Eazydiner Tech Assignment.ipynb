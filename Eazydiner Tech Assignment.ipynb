{
 "cells": [
  {
   "cell_type": "markdown",
   "metadata": {},
   "source": [
    "## Problem\n",
    "\n",
    "EazyDiner is a table reservation platform for consumers looking for dining places. Will a new customer who signs up with us, make a booking in the first 7 days of signing up? If the probability is <20% then keep it in a 0 bucket otherwise in a 1 bucket."
   ]
  },
  {
   "cell_type": "code",
   "execution_count": 1,
   "metadata": {},
   "outputs": [],
   "source": [
    "#importing libraries\n",
    "import pandas as pd\n",
    "import numpy as np\n",
    "import matplotlib.pyplot as plt\n",
    "import datetime as dt\n",
    "import seaborn as sns\n",
    "import scikitplot as skplt"
   ]
  },
  {
   "cell_type": "code",
   "execution_count": 2,
   "metadata": {},
   "outputs": [
    {
     "data": {
      "text/html": [
       "<div>\n",
       "<style scoped>\n",
       "    .dataframe tbody tr th:only-of-type {\n",
       "        vertical-align: middle;\n",
       "    }\n",
       "\n",
       "    .dataframe tbody tr th {\n",
       "        vertical-align: top;\n",
       "    }\n",
       "\n",
       "    .dataframe thead th {\n",
       "        text-align: right;\n",
       "    }\n",
       "</style>\n",
       "<table border=\"1\" class=\"dataframe\">\n",
       "  <thead>\n",
       "    <tr style=\"text-align: right;\">\n",
       "      <th></th>\n",
       "      <th>date</th>\n",
       "      <th>medium</th>\n",
       "      <th>restaurant_name</th>\n",
       "      <th>location</th>\n",
       "      <th>cust_id</th>\n",
       "    </tr>\n",
       "  </thead>\n",
       "  <tbody>\n",
       "    <tr>\n",
       "      <th>0</th>\n",
       "      <td>2020-09-04</td>\n",
       "      <td>web</td>\n",
       "      <td>Spectra</td>\n",
       "      <td>The Leela Ambience, Gurgaon</td>\n",
       "      <td>5015431352112</td>\n",
       "    </tr>\n",
       "    <tr>\n",
       "      <th>1</th>\n",
       "      <td>2020-09-06</td>\n",
       "      <td>google</td>\n",
       "      <td>Barbeque Nation</td>\n",
       "      <td>Park Street Area, Kolkata</td>\n",
       "      <td>5015431352115</td>\n",
       "    </tr>\n",
       "    <tr>\n",
       "      <th>2</th>\n",
       "      <td>2020-09-01</td>\n",
       "      <td>google</td>\n",
       "      <td>Barbeque Nation</td>\n",
       "      <td>Ambience Mall, Gurgaon</td>\n",
       "      <td>5015431352121</td>\n",
       "    </tr>\n",
       "    <tr>\n",
       "      <th>3</th>\n",
       "      <td>2020-09-04</td>\n",
       "      <td>google</td>\n",
       "      <td>Barbeque Pride</td>\n",
       "      <td>Hitech City, Hyderabad</td>\n",
       "      <td>5015431352122</td>\n",
       "    </tr>\n",
       "    <tr>\n",
       "      <th>4</th>\n",
       "      <td>2020-09-06</td>\n",
       "      <td>google</td>\n",
       "      <td>Float Brewery</td>\n",
       "      <td>Kalyan Nagar, North Bengaluru</td>\n",
       "      <td>5015431352123</td>\n",
       "    </tr>\n",
       "    <tr>\n",
       "      <th>5</th>\n",
       "      <td>2020-09-01</td>\n",
       "      <td>google</td>\n",
       "      <td>AB's - Absolute Barbecues</td>\n",
       "      <td>Banjara Hills, Hyderabad</td>\n",
       "      <td>5015431352125</td>\n",
       "    </tr>\n",
       "    <tr>\n",
       "      <th>6</th>\n",
       "      <td>2020-09-04</td>\n",
       "      <td>google</td>\n",
       "      <td>AB's - Absolute Barbecues</td>\n",
       "      <td>The Accord Metropolitan, Chennai</td>\n",
       "      <td>5015431352130</td>\n",
       "    </tr>\n",
       "    <tr>\n",
       "      <th>7</th>\n",
       "      <td>2020-09-01</td>\n",
       "      <td>google</td>\n",
       "      <td>AB's - Absolute Barbecues</td>\n",
       "      <td>Visakhapatnam</td>\n",
       "      <td>5015431352210</td>\n",
       "    </tr>\n",
       "    <tr>\n",
       "      <th>8</th>\n",
       "      <td>2020-09-01</td>\n",
       "      <td>google</td>\n",
       "      <td>Barbeque Nation</td>\n",
       "      <td>Kakinada</td>\n",
       "      <td>5015431352211</td>\n",
       "    </tr>\n",
       "    <tr>\n",
       "      <th>9</th>\n",
       "      <td>2020-09-01</td>\n",
       "      <td>google</td>\n",
       "      <td>AB's - Absolute Barbecues</td>\n",
       "      <td>Visakhapatnam</td>\n",
       "      <td>5015431352214</td>\n",
       "    </tr>\n",
       "  </tbody>\n",
       "</table>\n",
       "</div>"
      ],
      "text/plain": [
       "        date  medium            restaurant_name  \\\n",
       "0 2020-09-04     web                    Spectra   \n",
       "1 2020-09-06  google            Barbeque Nation   \n",
       "2 2020-09-01  google            Barbeque Nation   \n",
       "3 2020-09-04  google             Barbeque Pride   \n",
       "4 2020-09-06  google              Float Brewery   \n",
       "5 2020-09-01  google  AB's - Absolute Barbecues   \n",
       "6 2020-09-04  google  AB's - Absolute Barbecues   \n",
       "7 2020-09-01  google  AB's - Absolute Barbecues   \n",
       "8 2020-09-01  google            Barbeque Nation   \n",
       "9 2020-09-01  google  AB's - Absolute Barbecues   \n",
       "\n",
       "                           location        cust_id  \n",
       "0       The Leela Ambience, Gurgaon  5015431352112  \n",
       "1         Park Street Area, Kolkata  5015431352115  \n",
       "2            Ambience Mall, Gurgaon  5015431352121  \n",
       "3            Hitech City, Hyderabad  5015431352122  \n",
       "4     Kalyan Nagar, North Bengaluru  5015431352123  \n",
       "5          Banjara Hills, Hyderabad  5015431352125  \n",
       "6  The Accord Metropolitan, Chennai  5015431352130  \n",
       "7                     Visakhapatnam  5015431352210  \n",
       "8                          Kakinada  5015431352211  \n",
       "9                     Visakhapatnam  5015431352214  "
      ]
     },
     "execution_count": 2,
     "metadata": {},
     "output_type": "execute_result"
    }
   ],
   "source": [
    "data1 = pd.read_excel(r'C:\\Users\\HP\\Downloads\\Sample_BOOKINGS_Dataset_1.xlsx')\n",
    "data1.head(10)\n"
   ]
  },
  {
   "cell_type": "code",
   "execution_count": 3,
   "metadata": {},
   "outputs": [
    {
     "data": {
      "text/html": [
       "<div>\n",
       "<style scoped>\n",
       "    .dataframe tbody tr th:only-of-type {\n",
       "        vertical-align: middle;\n",
       "    }\n",
       "\n",
       "    .dataframe tbody tr th {\n",
       "        vertical-align: top;\n",
       "    }\n",
       "\n",
       "    .dataframe thead th {\n",
       "        text-align: right;\n",
       "    }\n",
       "</style>\n",
       "<table border=\"1\" class=\"dataframe\">\n",
       "  <thead>\n",
       "    <tr style=\"text-align: right;\">\n",
       "      <th></th>\n",
       "      <th>cust_id</th>\n",
       "      <th>name</th>\n",
       "      <th>city</th>\n",
       "      <th>gender</th>\n",
       "      <th>AGE</th>\n",
       "      <th>medium</th>\n",
       "      <th>signup_date</th>\n",
       "    </tr>\n",
       "  </thead>\n",
       "  <tbody>\n",
       "    <tr>\n",
       "      <th>0</th>\n",
       "      <td>5015431352112</td>\n",
       "      <td>Juhi Agrawal</td>\n",
       "      <td>Delhi NCR</td>\n",
       "      <td>F</td>\n",
       "      <td>72</td>\n",
       "      <td>web</td>\n",
       "      <td>2020-09-01</td>\n",
       "    </tr>\n",
       "    <tr>\n",
       "      <th>1</th>\n",
       "      <td>5015431352113</td>\n",
       "      <td>Manish</td>\n",
       "      <td>Delhi NCR</td>\n",
       "      <td>M</td>\n",
       "      <td>45</td>\n",
       "      <td>android</td>\n",
       "      <td>2020-09-01</td>\n",
       "    </tr>\n",
       "    <tr>\n",
       "      <th>2</th>\n",
       "      <td>5015431352114</td>\n",
       "      <td>mani</td>\n",
       "      <td>Chennai</td>\n",
       "      <td>M</td>\n",
       "      <td>29</td>\n",
       "      <td>android</td>\n",
       "      <td>2020-09-01</td>\n",
       "    </tr>\n",
       "    <tr>\n",
       "      <th>3</th>\n",
       "      <td>5015431352115</td>\n",
       "      <td>Rija</td>\n",
       "      <td>Kolkata</td>\n",
       "      <td>F</td>\n",
       "      <td>60</td>\n",
       "      <td>google</td>\n",
       "      <td>2020-09-01</td>\n",
       "    </tr>\n",
       "    <tr>\n",
       "      <th>4</th>\n",
       "      <td>5015431352120</td>\n",
       "      <td>Bharath</td>\n",
       "      <td>NaN</td>\n",
       "      <td>NaN</td>\n",
       "      <td>32</td>\n",
       "      <td>google</td>\n",
       "      <td>2020-09-01</td>\n",
       "    </tr>\n",
       "    <tr>\n",
       "      <th>5</th>\n",
       "      <td>5015431352121</td>\n",
       "      <td>Aparna</td>\n",
       "      <td>Delhi NCR</td>\n",
       "      <td>F</td>\n",
       "      <td>27</td>\n",
       "      <td>google</td>\n",
       "      <td>2020-09-01</td>\n",
       "    </tr>\n",
       "    <tr>\n",
       "      <th>6</th>\n",
       "      <td>5015431352122</td>\n",
       "      <td>Pavan Sai Chandra</td>\n",
       "      <td>Hyderabad</td>\n",
       "      <td>M</td>\n",
       "      <td>69</td>\n",
       "      <td>google</td>\n",
       "      <td>2020-09-01</td>\n",
       "    </tr>\n",
       "    <tr>\n",
       "      <th>7</th>\n",
       "      <td>5015431352123</td>\n",
       "      <td>Vaseem</td>\n",
       "      <td>Bengaluru</td>\n",
       "      <td>M</td>\n",
       "      <td>38</td>\n",
       "      <td>google</td>\n",
       "      <td>2020-09-01</td>\n",
       "    </tr>\n",
       "    <tr>\n",
       "      <th>8</th>\n",
       "      <td>5015431352124</td>\n",
       "      <td>Sonu Kumar shaw</td>\n",
       "      <td>Kolkata</td>\n",
       "      <td>M</td>\n",
       "      <td>32</td>\n",
       "      <td>android</td>\n",
       "      <td>2020-09-01</td>\n",
       "    </tr>\n",
       "    <tr>\n",
       "      <th>9</th>\n",
       "      <td>5015431352125</td>\n",
       "      <td>Nandini</td>\n",
       "      <td>Hyderabad</td>\n",
       "      <td>F</td>\n",
       "      <td>73</td>\n",
       "      <td>google</td>\n",
       "      <td>2020-09-01</td>\n",
       "    </tr>\n",
       "  </tbody>\n",
       "</table>\n",
       "</div>"
      ],
      "text/plain": [
       "         cust_id               name       city gender  AGE   medium  \\\n",
       "0  5015431352112       Juhi Agrawal  Delhi NCR      F   72      web   \n",
       "1  5015431352113             Manish  Delhi NCR      M   45  android   \n",
       "2  5015431352114               mani    Chennai      M   29  android   \n",
       "3  5015431352115               Rija    Kolkata      F   60   google   \n",
       "4  5015431352120            Bharath        NaN    NaN   32   google   \n",
       "5  5015431352121             Aparna  Delhi NCR      F   27   google   \n",
       "6  5015431352122  Pavan Sai Chandra  Hyderabad      M   69   google   \n",
       "7  5015431352123             Vaseem  Bengaluru      M   38   google   \n",
       "8  5015431352124    Sonu Kumar shaw    Kolkata      M   32  android   \n",
       "9  5015431352125            Nandini  Hyderabad      F   73   google   \n",
       "\n",
       "  signup_date  \n",
       "0  2020-09-01  \n",
       "1  2020-09-01  \n",
       "2  2020-09-01  \n",
       "3  2020-09-01  \n",
       "4  2020-09-01  \n",
       "5  2020-09-01  \n",
       "6  2020-09-01  \n",
       "7  2020-09-01  \n",
       "8  2020-09-01  \n",
       "9  2020-09-01  "
      ]
     },
     "execution_count": 3,
     "metadata": {},
     "output_type": "execute_result"
    }
   ],
   "source": [
    "data2 = pd.read_excel(r'C:\\Users\\HP\\Downloads\\Sample_CUSTOMER_Dataset_2.xlsx')\n",
    "data2.head(10)"
   ]
  },
  {
   "cell_type": "code",
   "execution_count": 4,
   "metadata": {},
   "outputs": [
    {
     "data": {
      "text/plain": [
       "(61333, 5)"
      ]
     },
     "execution_count": 4,
     "metadata": {},
     "output_type": "execute_result"
    }
   ],
   "source": [
    "data1.shape"
   ]
  },
  {
   "cell_type": "code",
   "execution_count": 5,
   "metadata": {},
   "outputs": [
    {
     "data": {
      "text/plain": [
       "(98354, 7)"
      ]
     },
     "execution_count": 5,
     "metadata": {},
     "output_type": "execute_result"
    }
   ],
   "source": [
    "data2.shape"
   ]
  },
  {
   "cell_type": "code",
   "execution_count": 6,
   "metadata": {},
   "outputs": [
    {
     "name": "stdout",
     "output_type": "stream",
     "text": [
      "<class 'pandas.core.frame.DataFrame'>\n",
      "RangeIndex: 61333 entries, 0 to 61332\n",
      "Data columns (total 5 columns):\n",
      " #   Column           Non-Null Count  Dtype         \n",
      "---  ------           --------------  -----         \n",
      " 0   date             61332 non-null  datetime64[ns]\n",
      " 1   medium           61333 non-null  object        \n",
      " 2   restaurant_name  61333 non-null  object        \n",
      " 3   location         61333 non-null  object        \n",
      " 4   cust_id          61333 non-null  int64         \n",
      "dtypes: datetime64[ns](1), int64(1), object(3)\n",
      "memory usage: 2.3+ MB\n"
     ]
    }
   ],
   "source": [
    "data1.info()"
   ]
  },
  {
   "cell_type": "markdown",
   "metadata": {},
   "source": [
    "We can see that non-null count for every column is same as the number of columns in shape hece null count is zero in data1."
   ]
  },
  {
   "cell_type": "code",
   "execution_count": 7,
   "metadata": {},
   "outputs": [
    {
     "name": "stdout",
     "output_type": "stream",
     "text": [
      "<class 'pandas.core.frame.DataFrame'>\n",
      "RangeIndex: 98354 entries, 0 to 98353\n",
      "Data columns (total 7 columns):\n",
      " #   Column       Non-Null Count  Dtype         \n",
      "---  ------       --------------  -----         \n",
      " 0   cust_id      98354 non-null  int64         \n",
      " 1   name         92756 non-null  object        \n",
      " 2   city         80621 non-null  object        \n",
      " 3   gender       4699 non-null   object        \n",
      " 4   AGE          98354 non-null  int64         \n",
      " 5   medium       98354 non-null  object        \n",
      " 6   signup_date  98354 non-null  datetime64[ns]\n",
      "dtypes: datetime64[ns](1), int64(2), object(4)\n",
      "memory usage: 5.3+ MB\n"
     ]
    }
   ],
   "source": [
    "data2.info()"
   ]
  },
  {
   "cell_type": "markdown",
   "metadata": {},
   "source": [
    "We can see that for some columns non-null count is less than total columns hence there are null values in data2. Hence, we will check null values in data2 using isnull."
   ]
  },
  {
   "cell_type": "code",
   "execution_count": 8,
   "metadata": {},
   "outputs": [
    {
     "data": {
      "text/plain": [
       "cust_id            0\n",
       "name            5598\n",
       "city           17733\n",
       "gender         93655\n",
       "AGE                0\n",
       "medium             0\n",
       "signup_date        0\n",
       "dtype: int64"
      ]
     },
     "execution_count": 8,
     "metadata": {},
     "output_type": "execute_result"
    }
   ],
   "source": [
    "data2.isnull().sum()"
   ]
  },
  {
   "cell_type": "markdown",
   "metadata": {},
   "source": [
    "Now we can see that customer id is serving as the primary key and we can join both tables through cutomer id using outer join and form a merged dataset."
   ]
  },
  {
   "cell_type": "code",
   "execution_count": 9,
   "metadata": {},
   "outputs": [
    {
     "data": {
      "text/html": [
       "<div>\n",
       "<style scoped>\n",
       "    .dataframe tbody tr th:only-of-type {\n",
       "        vertical-align: middle;\n",
       "    }\n",
       "\n",
       "    .dataframe tbody tr th {\n",
       "        vertical-align: top;\n",
       "    }\n",
       "\n",
       "    .dataframe thead th {\n",
       "        text-align: right;\n",
       "    }\n",
       "</style>\n",
       "<table border=\"1\" class=\"dataframe\">\n",
       "  <thead>\n",
       "    <tr style=\"text-align: right;\">\n",
       "      <th></th>\n",
       "      <th>date</th>\n",
       "      <th>medium_x</th>\n",
       "      <th>restaurant_name</th>\n",
       "      <th>location</th>\n",
       "      <th>cust_id</th>\n",
       "      <th>name</th>\n",
       "      <th>city</th>\n",
       "      <th>gender</th>\n",
       "      <th>AGE</th>\n",
       "      <th>medium_y</th>\n",
       "      <th>signup_date</th>\n",
       "    </tr>\n",
       "  </thead>\n",
       "  <tbody>\n",
       "    <tr>\n",
       "      <th>0</th>\n",
       "      <td>2020-09-04</td>\n",
       "      <td>web</td>\n",
       "      <td>Spectra</td>\n",
       "      <td>The Leela Ambience, Gurgaon</td>\n",
       "      <td>5015431352112</td>\n",
       "      <td>Juhi Agrawal</td>\n",
       "      <td>Delhi NCR</td>\n",
       "      <td>F</td>\n",
       "      <td>72</td>\n",
       "      <td>web</td>\n",
       "      <td>2020-09-01</td>\n",
       "    </tr>\n",
       "    <tr>\n",
       "      <th>1</th>\n",
       "      <td>2020-09-06</td>\n",
       "      <td>google</td>\n",
       "      <td>Barbeque Nation</td>\n",
       "      <td>Park Street Area, Kolkata</td>\n",
       "      <td>5015431352115</td>\n",
       "      <td>Rija</td>\n",
       "      <td>Kolkata</td>\n",
       "      <td>F</td>\n",
       "      <td>60</td>\n",
       "      <td>google</td>\n",
       "      <td>2020-09-01</td>\n",
       "    </tr>\n",
       "    <tr>\n",
       "      <th>2</th>\n",
       "      <td>2020-09-01</td>\n",
       "      <td>google</td>\n",
       "      <td>Barbeque Nation</td>\n",
       "      <td>Ambience Mall, Gurgaon</td>\n",
       "      <td>5015431352121</td>\n",
       "      <td>Aparna</td>\n",
       "      <td>Delhi NCR</td>\n",
       "      <td>F</td>\n",
       "      <td>27</td>\n",
       "      <td>google</td>\n",
       "      <td>2020-09-01</td>\n",
       "    </tr>\n",
       "    <tr>\n",
       "      <th>3</th>\n",
       "      <td>2020-09-04</td>\n",
       "      <td>google</td>\n",
       "      <td>Barbeque Pride</td>\n",
       "      <td>Hitech City, Hyderabad</td>\n",
       "      <td>5015431352122</td>\n",
       "      <td>Pavan Sai Chandra</td>\n",
       "      <td>Hyderabad</td>\n",
       "      <td>M</td>\n",
       "      <td>69</td>\n",
       "      <td>google</td>\n",
       "      <td>2020-09-01</td>\n",
       "    </tr>\n",
       "    <tr>\n",
       "      <th>4</th>\n",
       "      <td>2020-09-06</td>\n",
       "      <td>google</td>\n",
       "      <td>Float Brewery</td>\n",
       "      <td>Kalyan Nagar, North Bengaluru</td>\n",
       "      <td>5015431352123</td>\n",
       "      <td>Vaseem</td>\n",
       "      <td>Bengaluru</td>\n",
       "      <td>M</td>\n",
       "      <td>38</td>\n",
       "      <td>google</td>\n",
       "      <td>2020-09-01</td>\n",
       "    </tr>\n",
       "  </tbody>\n",
       "</table>\n",
       "</div>"
      ],
      "text/plain": [
       "        date medium_x  restaurant_name                       location  \\\n",
       "0 2020-09-04      web          Spectra    The Leela Ambience, Gurgaon   \n",
       "1 2020-09-06   google  Barbeque Nation      Park Street Area, Kolkata   \n",
       "2 2020-09-01   google  Barbeque Nation         Ambience Mall, Gurgaon   \n",
       "3 2020-09-04   google   Barbeque Pride         Hitech City, Hyderabad   \n",
       "4 2020-09-06   google    Float Brewery  Kalyan Nagar, North Bengaluru   \n",
       "\n",
       "         cust_id               name       city gender  AGE medium_y  \\\n",
       "0  5015431352112       Juhi Agrawal  Delhi NCR      F   72      web   \n",
       "1  5015431352115               Rija    Kolkata      F   60   google   \n",
       "2  5015431352121             Aparna  Delhi NCR      F   27   google   \n",
       "3  5015431352122  Pavan Sai Chandra  Hyderabad      M   69   google   \n",
       "4  5015431352123             Vaseem  Bengaluru      M   38   google   \n",
       "\n",
       "  signup_date  \n",
       "0  2020-09-01  \n",
       "1  2020-09-01  \n",
       "2  2020-09-01  \n",
       "3  2020-09-01  \n",
       "4  2020-09-01  "
      ]
     },
     "execution_count": 9,
     "metadata": {},
     "output_type": "execute_result"
    }
   ],
   "source": [
    "data3 = pd.merge(left=data1, right=data2, how='outer', left_on='cust_id', right_on='cust_id')\n",
    "data3.head(5)"
   ]
  },
  {
   "cell_type": "code",
   "execution_count": 10,
   "metadata": {},
   "outputs": [
    {
     "data": {
      "text/plain": [
       "(98354, 11)"
      ]
     },
     "execution_count": 10,
     "metadata": {},
     "output_type": "execute_result"
    }
   ],
   "source": [
    "data3.shape"
   ]
  },
  {
   "cell_type": "code",
   "execution_count": 11,
   "metadata": {},
   "outputs": [
    {
     "name": "stdout",
     "output_type": "stream",
     "text": [
      "<class 'pandas.core.frame.DataFrame'>\n",
      "Int64Index: 98354 entries, 0 to 98353\n",
      "Data columns (total 11 columns):\n",
      " #   Column           Non-Null Count  Dtype         \n",
      "---  ------           --------------  -----         \n",
      " 0   date             61332 non-null  datetime64[ns]\n",
      " 1   medium_x         61333 non-null  object        \n",
      " 2   restaurant_name  61333 non-null  object        \n",
      " 3   location         61333 non-null  object        \n",
      " 4   cust_id          98354 non-null  int64         \n",
      " 5   name             92756 non-null  object        \n",
      " 6   city             80621 non-null  object        \n",
      " 7   gender           4699 non-null   object        \n",
      " 8   AGE              98354 non-null  int64         \n",
      " 9   medium_y         98354 non-null  object        \n",
      " 10  signup_date      98354 non-null  datetime64[ns]\n",
      "dtypes: datetime64[ns](2), int64(2), object(7)\n",
      "memory usage: 9.0+ MB\n"
     ]
    }
   ],
   "source": [
    "data3.info()"
   ]
  },
  {
   "cell_type": "markdown",
   "metadata": {},
   "source": [
    "We can see that the non-null count if not equal to the total number of columns hence we can deduce that the merged dataset has null values."
   ]
  },
  {
   "cell_type": "code",
   "execution_count": 12,
   "metadata": {},
   "outputs": [
    {
     "data": {
      "text/plain": [
       "date               37022\n",
       "medium_x           37021\n",
       "restaurant_name    37021\n",
       "location           37021\n",
       "cust_id                0\n",
       "name                5598\n",
       "city               17733\n",
       "gender             93655\n",
       "AGE                    0\n",
       "medium_y               0\n",
       "signup_date            0\n",
       "dtype: int64"
      ]
     },
     "execution_count": 12,
     "metadata": {},
     "output_type": "execute_result"
    }
   ],
   "source": [
    "data3.isnull().sum()"
   ]
  },
  {
   "cell_type": "markdown",
   "metadata": {},
   "source": [
    "Now we will visualise the total number of missing values in each column of the merged dataset."
   ]
  },
  {
   "cell_type": "code",
   "execution_count": 13,
   "metadata": {
    "scrolled": true
   },
   "outputs": [
    {
     "data": {
      "text/plain": [
       "<matplotlib.axes._subplots.AxesSubplot at 0x202de3269a0>"
      ]
     },
     "execution_count": 13,
     "metadata": {},
     "output_type": "execute_result"
    },
    {
     "data": {
      "image/png": "[encoded data removed]",
      "text/plain": [
       "<Figure size 1728x720 with 3 Axes>"
      ]
     },
     "metadata": {
      "needs_background": "light"
     },
     "output_type": "display_data"
    }
   ],
   "source": [
    "import missingno as msno\n",
    "msno.bar(data3)"
   ]
  },
  {
   "cell_type": "markdown",
   "metadata": {},
   "source": [
    "We can see from the data3 dataset that medium_x and medium_y values are same but in the above visualization there are null values present in medium_x hence we will fill those values with corresponding values available in medium_y."
   ]
  },
  {
   "cell_type": "code",
   "execution_count": 14,
   "metadata": {},
   "outputs": [
    {
     "data": {
      "text/html": [
       "<div>\n",
       "<style scoped>\n",
       "    .dataframe tbody tr th:only-of-type {\n",
       "        vertical-align: middle;\n",
       "    }\n",
       "\n",
       "    .dataframe tbody tr th {\n",
       "        vertical-align: top;\n",
       "    }\n",
       "\n",
       "    .dataframe thead th {\n",
       "        text-align: right;\n",
       "    }\n",
       "</style>\n",
       "<table border=\"1\" class=\"dataframe\">\n",
       "  <thead>\n",
       "    <tr style=\"text-align: right;\">\n",
       "      <th></th>\n",
       "      <th>date</th>\n",
       "      <th>medium_x</th>\n",
       "      <th>restaurant_name</th>\n",
       "      <th>location</th>\n",
       "      <th>cust_id</th>\n",
       "      <th>name</th>\n",
       "      <th>city</th>\n",
       "      <th>gender</th>\n",
       "      <th>AGE</th>\n",
       "      <th>medium_y</th>\n",
       "      <th>signup_date</th>\n",
       "    </tr>\n",
       "  </thead>\n",
       "  <tbody>\n",
       "    <tr>\n",
       "      <th>0</th>\n",
       "      <td>2020-09-04</td>\n",
       "      <td>web</td>\n",
       "      <td>Spectra</td>\n",
       "      <td>The Leela Ambience, Gurgaon</td>\n",
       "      <td>5015431352112</td>\n",
       "      <td>Juhi Agrawal</td>\n",
       "      <td>Delhi NCR</td>\n",
       "      <td>F</td>\n",
       "      <td>72</td>\n",
       "      <td>web</td>\n",
       "      <td>2020-09-01</td>\n",
       "    </tr>\n",
       "    <tr>\n",
       "      <th>1</th>\n",
       "      <td>NaT</td>\n",
       "      <td>NaN</td>\n",
       "      <td>NaN</td>\n",
       "      <td>NaN</td>\n",
       "      <td>5015431352113</td>\n",
       "      <td>Manish</td>\n",
       "      <td>Delhi NCR</td>\n",
       "      <td>M</td>\n",
       "      <td>45</td>\n",
       "      <td>android</td>\n",
       "      <td>2020-09-01</td>\n",
       "    </tr>\n",
       "    <tr>\n",
       "      <th>2</th>\n",
       "      <td>NaT</td>\n",
       "      <td>NaN</td>\n",
       "      <td>NaN</td>\n",
       "      <td>NaN</td>\n",
       "      <td>5015431352114</td>\n",
       "      <td>mani</td>\n",
       "      <td>Chennai</td>\n",
       "      <td>M</td>\n",
       "      <td>29</td>\n",
       "      <td>android</td>\n",
       "      <td>2020-09-01</td>\n",
       "    </tr>\n",
       "    <tr>\n",
       "      <th>3</th>\n",
       "      <td>2020-09-06</td>\n",
       "      <td>google</td>\n",
       "      <td>Barbeque Nation</td>\n",
       "      <td>Park Street Area, Kolkata</td>\n",
       "      <td>5015431352115</td>\n",
       "      <td>Rija</td>\n",
       "      <td>Kolkata</td>\n",
       "      <td>F</td>\n",
       "      <td>60</td>\n",
       "      <td>google</td>\n",
       "      <td>2020-09-01</td>\n",
       "    </tr>\n",
       "    <tr>\n",
       "      <th>4</th>\n",
       "      <td>NaT</td>\n",
       "      <td>NaN</td>\n",
       "      <td>NaN</td>\n",
       "      <td>NaN</td>\n",
       "      <td>5015431352120</td>\n",
       "      <td>Bharath</td>\n",
       "      <td>NaN</td>\n",
       "      <td>NaN</td>\n",
       "      <td>32</td>\n",
       "      <td>google</td>\n",
       "      <td>2020-09-01</td>\n",
       "    </tr>\n",
       "  </tbody>\n",
       "</table>\n",
       "</div>"
      ],
      "text/plain": [
       "        date medium_x  restaurant_name                     location  \\\n",
       "0 2020-09-04      web          Spectra  The Leela Ambience, Gurgaon   \n",
       "1        NaT      NaN              NaN                          NaN   \n",
       "2        NaT      NaN              NaN                          NaN   \n",
       "3 2020-09-06   google  Barbeque Nation    Park Street Area, Kolkata   \n",
       "4        NaT      NaN              NaN                          NaN   \n",
       "\n",
       "         cust_id          name       city gender  AGE medium_y signup_date  \n",
       "0  5015431352112  Juhi Agrawal  Delhi NCR      F   72      web  2020-09-01  \n",
       "1  5015431352113        Manish  Delhi NCR      M   45  android  2020-09-01  \n",
       "2  5015431352114          mani    Chennai      M   29  android  2020-09-01  \n",
       "3  5015431352115          Rija    Kolkata      F   60   google  2020-09-01  \n",
       "4  5015431352120       Bharath        NaN    NaN   32   google  2020-09-01  "
      ]
     },
     "execution_count": 14,
     "metadata": {},
     "output_type": "execute_result"
    }
   ],
   "source": [
    "data3.sort_values(by=['cust_id'], inplace=True)\n",
    "data3.reset_index(drop=True, inplace=True)\n",
    "data3.head()"
   ]
  },
  {
   "cell_type": "markdown",
   "metadata": {},
   "source": [
    "We can see from the data3 dataset that medium_x and medium_y values are same but in the above visualization there are null values present in medium_x hence we will fill those values with corresponding values available in medium_y."
   ]
  },
  {
   "cell_type": "code",
   "execution_count": 15,
   "metadata": {},
   "outputs": [
    {
     "data": {
      "text/html": [
       "<div>\n",
       "<style scoped>\n",
       "    .dataframe tbody tr th:only-of-type {\n",
       "        vertical-align: middle;\n",
       "    }\n",
       "\n",
       "    .dataframe tbody tr th {\n",
       "        vertical-align: top;\n",
       "    }\n",
       "\n",
       "    .dataframe thead th {\n",
       "        text-align: right;\n",
       "    }\n",
       "</style>\n",
       "<table border=\"1\" class=\"dataframe\">\n",
       "  <thead>\n",
       "    <tr style=\"text-align: right;\">\n",
       "      <th></th>\n",
       "      <th>date</th>\n",
       "      <th>medium_x</th>\n",
       "      <th>restaurant_name</th>\n",
       "      <th>location</th>\n",
       "      <th>cust_id</th>\n",
       "      <th>name</th>\n",
       "      <th>city</th>\n",
       "      <th>gender</th>\n",
       "      <th>AGE</th>\n",
       "      <th>medium_y</th>\n",
       "      <th>signup_date</th>\n",
       "      <th>medium</th>\n",
       "    </tr>\n",
       "  </thead>\n",
       "  <tbody>\n",
       "    <tr>\n",
       "      <th>0</th>\n",
       "      <td>2020-09-04</td>\n",
       "      <td>web</td>\n",
       "      <td>Spectra</td>\n",
       "      <td>The Leela Ambience, Gurgaon</td>\n",
       "      <td>5015431352112</td>\n",
       "      <td>Juhi Agrawal</td>\n",
       "      <td>Delhi NCR</td>\n",
       "      <td>F</td>\n",
       "      <td>72</td>\n",
       "      <td>web</td>\n",
       "      <td>2020-09-01</td>\n",
       "      <td>web</td>\n",
       "    </tr>\n",
       "    <tr>\n",
       "      <th>1</th>\n",
       "      <td>NaT</td>\n",
       "      <td>NaN</td>\n",
       "      <td>NaN</td>\n",
       "      <td>NaN</td>\n",
       "      <td>5015431352113</td>\n",
       "      <td>Manish</td>\n",
       "      <td>Delhi NCR</td>\n",
       "      <td>M</td>\n",
       "      <td>45</td>\n",
       "      <td>android</td>\n",
       "      <td>2020-09-01</td>\n",
       "      <td>android</td>\n",
       "    </tr>\n",
       "    <tr>\n",
       "      <th>2</th>\n",
       "      <td>NaT</td>\n",
       "      <td>NaN</td>\n",
       "      <td>NaN</td>\n",
       "      <td>NaN</td>\n",
       "      <td>5015431352114</td>\n",
       "      <td>mani</td>\n",
       "      <td>Chennai</td>\n",
       "      <td>M</td>\n",
       "      <td>29</td>\n",
       "      <td>android</td>\n",
       "      <td>2020-09-01</td>\n",
       "      <td>android</td>\n",
       "    </tr>\n",
       "    <tr>\n",
       "      <th>3</th>\n",
       "      <td>2020-09-06</td>\n",
       "      <td>google</td>\n",
       "      <td>Barbeque Nation</td>\n",
       "      <td>Park Street Area, Kolkata</td>\n",
       "      <td>5015431352115</td>\n",
       "      <td>Rija</td>\n",
       "      <td>Kolkata</td>\n",
       "      <td>F</td>\n",
       "      <td>60</td>\n",
       "      <td>google</td>\n",
       "      <td>2020-09-01</td>\n",
       "      <td>google</td>\n",
       "    </tr>\n",
       "    <tr>\n",
       "      <th>4</th>\n",
       "      <td>NaT</td>\n",
       "      <td>NaN</td>\n",
       "      <td>NaN</td>\n",
       "      <td>NaN</td>\n",
       "      <td>5015431352120</td>\n",
       "      <td>Bharath</td>\n",
       "      <td>NaN</td>\n",
       "      <td>NaN</td>\n",
       "      <td>32</td>\n",
       "      <td>google</td>\n",
       "      <td>2020-09-01</td>\n",
       "      <td>google</td>\n",
       "    </tr>\n",
       "  </tbody>\n",
       "</table>\n",
       "</div>"
      ],
      "text/plain": [
       "        date medium_x  restaurant_name                     location  \\\n",
       "0 2020-09-04      web          Spectra  The Leela Ambience, Gurgaon   \n",
       "1        NaT      NaN              NaN                          NaN   \n",
       "2        NaT      NaN              NaN                          NaN   \n",
       "3 2020-09-06   google  Barbeque Nation    Park Street Area, Kolkata   \n",
       "4        NaT      NaN              NaN                          NaN   \n",
       "\n",
       "         cust_id          name       city gender  AGE medium_y signup_date  \\\n",
       "0  5015431352112  Juhi Agrawal  Delhi NCR      F   72      web  2020-09-01   \n",
       "1  5015431352113        Manish  Delhi NCR      M   45  android  2020-09-01   \n",
       "2  5015431352114          mani    Chennai      M   29  android  2020-09-01   \n",
       "3  5015431352115          Rija    Kolkata      F   60   google  2020-09-01   \n",
       "4  5015431352120       Bharath        NaN    NaN   32   google  2020-09-01   \n",
       "\n",
       "    medium  \n",
       "0      web  \n",
       "1  android  \n",
       "2  android  \n",
       "3   google  \n",
       "4   google  "
      ]
     },
     "execution_count": 15,
     "metadata": {},
     "output_type": "execute_result"
    }
   ],
   "source": [
    "data3['medium']= data3['medium_x'].fillna(data3['medium_y'])\n",
    "data3.head()"
   ]
  },
  {
   "cell_type": "markdown",
   "metadata": {},
   "source": [
    "Now according to the problem statement we have to predict probability of a customer booking within 7 days after signing up. Hence, we have to first find out the duration of booking after signing up using the signup_date column and date column in data3 dataset."
   ]
  },
  {
   "cell_type": "code",
   "execution_count": 16,
   "metadata": {},
   "outputs": [
    {
     "data": {
      "text/html": [
       "<div>\n",
       "<style scoped>\n",
       "    .dataframe tbody tr th:only-of-type {\n",
       "        vertical-align: middle;\n",
       "    }\n",
       "\n",
       "    .dataframe tbody tr th {\n",
       "        vertical-align: top;\n",
       "    }\n",
       "\n",
       "    .dataframe thead th {\n",
       "        text-align: right;\n",
       "    }\n",
       "</style>\n",
       "<table border=\"1\" class=\"dataframe\">\n",
       "  <thead>\n",
       "    <tr style=\"text-align: right;\">\n",
       "      <th></th>\n",
       "      <th>date</th>\n",
       "      <th>medium_x</th>\n",
       "      <th>restaurant_name</th>\n",
       "      <th>location</th>\n",
       "      <th>cust_id</th>\n",
       "      <th>name</th>\n",
       "      <th>city</th>\n",
       "      <th>gender</th>\n",
       "      <th>AGE</th>\n",
       "      <th>medium_y</th>\n",
       "      <th>signup_date</th>\n",
       "      <th>medium</th>\n",
       "      <th>duration</th>\n",
       "    </tr>\n",
       "  </thead>\n",
       "  <tbody>\n",
       "    <tr>\n",
       "      <th>0</th>\n",
       "      <td>2020-09-04</td>\n",
       "      <td>web</td>\n",
       "      <td>Spectra</td>\n",
       "      <td>The Leela Ambience, Gurgaon</td>\n",
       "      <td>5015431352112</td>\n",
       "      <td>Juhi Agrawal</td>\n",
       "      <td>Delhi NCR</td>\n",
       "      <td>F</td>\n",
       "      <td>72</td>\n",
       "      <td>web</td>\n",
       "      <td>2020-09-01</td>\n",
       "      <td>web</td>\n",
       "      <td>3.0</td>\n",
       "    </tr>\n",
       "    <tr>\n",
       "      <th>1</th>\n",
       "      <td>NaT</td>\n",
       "      <td>NaN</td>\n",
       "      <td>NaN</td>\n",
       "      <td>NaN</td>\n",
       "      <td>5015431352113</td>\n",
       "      <td>Manish</td>\n",
       "      <td>Delhi NCR</td>\n",
       "      <td>M</td>\n",
       "      <td>45</td>\n",
       "      <td>android</td>\n",
       "      <td>2020-09-01</td>\n",
       "      <td>android</td>\n",
       "      <td>NaN</td>\n",
       "    </tr>\n",
       "    <tr>\n",
       "      <th>2</th>\n",
       "      <td>NaT</td>\n",
       "      <td>NaN</td>\n",
       "      <td>NaN</td>\n",
       "      <td>NaN</td>\n",
       "      <td>5015431352114</td>\n",
       "      <td>mani</td>\n",
       "      <td>Chennai</td>\n",
       "      <td>M</td>\n",
       "      <td>29</td>\n",
       "      <td>android</td>\n",
       "      <td>2020-09-01</td>\n",
       "      <td>android</td>\n",
       "      <td>NaN</td>\n",
       "    </tr>\n",
       "    <tr>\n",
       "      <th>3</th>\n",
       "      <td>2020-09-06</td>\n",
       "      <td>google</td>\n",
       "      <td>Barbeque Nation</td>\n",
       "      <td>Park Street Area, Kolkata</td>\n",
       "      <td>5015431352115</td>\n",
       "      <td>Rija</td>\n",
       "      <td>Kolkata</td>\n",
       "      <td>F</td>\n",
       "      <td>60</td>\n",
       "      <td>google</td>\n",
       "      <td>2020-09-01</td>\n",
       "      <td>google</td>\n",
       "      <td>5.0</td>\n",
       "    </tr>\n",
       "    <tr>\n",
       "      <th>4</th>\n",
       "      <td>NaT</td>\n",
       "      <td>NaN</td>\n",
       "      <td>NaN</td>\n",
       "      <td>NaN</td>\n",
       "      <td>5015431352120</td>\n",
       "      <td>Bharath</td>\n",
       "      <td>NaN</td>\n",
       "      <td>NaN</td>\n",
       "      <td>32</td>\n",
       "      <td>google</td>\n",
       "      <td>2020-09-01</td>\n",
       "      <td>google</td>\n",
       "      <td>NaN</td>\n",
       "    </tr>\n",
       "  </tbody>\n",
       "</table>\n",
       "</div>"
      ],
      "text/plain": [
       "        date medium_x  restaurant_name                     location  \\\n",
       "0 2020-09-04      web          Spectra  The Leela Ambience, Gurgaon   \n",
       "1        NaT      NaN              NaN                          NaN   \n",
       "2        NaT      NaN              NaN                          NaN   \n",
       "3 2020-09-06   google  Barbeque Nation    Park Street Area, Kolkata   \n",
       "4        NaT      NaN              NaN                          NaN   \n",
       "\n",
       "         cust_id          name       city gender  AGE medium_y signup_date  \\\n",
       "0  5015431352112  Juhi Agrawal  Delhi NCR      F   72      web  2020-09-01   \n",
       "1  5015431352113        Manish  Delhi NCR      M   45  android  2020-09-01   \n",
       "2  5015431352114          mani    Chennai      M   29  android  2020-09-01   \n",
       "3  5015431352115          Rija    Kolkata      F   60   google  2020-09-01   \n",
       "4  5015431352120       Bharath        NaN    NaN   32   google  2020-09-01   \n",
       "\n",
       "    medium  duration  \n",
       "0      web       3.0  \n",
       "1  android       NaN  \n",
       "2  android       NaN  \n",
       "3   google       5.0  \n",
       "4   google       NaN  "
      ]
     },
     "execution_count": 16,
     "metadata": {},
     "output_type": "execute_result"
    }
   ],
   "source": [
    "\n",
    "data3['duration']=data3['date']-data3['signup_date']\n",
    "from datetime import timedelta\n",
    "data3['duration']=data3['duration']/np.timedelta64(1,'D')\n",
    "data3.head()"
   ]
  },
  {
   "cell_type": "markdown",
   "metadata": {},
   "source": [
    " Now that we have got the duration of booking from signup date we can create a column which will denote whether the customer has done a booking within 7 days or not. We will create a column called booked in the data3 dataset for this purpose. Here we will allot 1 if booking is done within 7 days else we will allot 1."
   ]
  },
  {
   "cell_type": "code",
   "execution_count": 17,
   "metadata": {},
   "outputs": [],
   "source": [
    "data3['booked']=np.where(data3['duration']<=7,1,0)    "
   ]
  },
  {
   "cell_type": "code",
   "execution_count": 18,
   "metadata": {},
   "outputs": [
    {
     "data": {
      "text/html": [
       "<div>\n",
       "<style scoped>\n",
       "    .dataframe tbody tr th:only-of-type {\n",
       "        vertical-align: middle;\n",
       "    }\n",
       "\n",
       "    .dataframe tbody tr th {\n",
       "        vertical-align: top;\n",
       "    }\n",
       "\n",
       "    .dataframe thead th {\n",
       "        text-align: right;\n",
       "    }\n",
       "</style>\n",
       "<table border=\"1\" class=\"dataframe\">\n",
       "  <thead>\n",
       "    <tr style=\"text-align: right;\">\n",
       "      <th></th>\n",
       "      <th>date</th>\n",
       "      <th>medium_x</th>\n",
       "      <th>restaurant_name</th>\n",
       "      <th>location</th>\n",
       "      <th>cust_id</th>\n",
       "      <th>name</th>\n",
       "      <th>city</th>\n",
       "      <th>gender</th>\n",
       "      <th>AGE</th>\n",
       "      <th>medium_y</th>\n",
       "      <th>signup_date</th>\n",
       "      <th>medium</th>\n",
       "      <th>duration</th>\n",
       "      <th>booked</th>\n",
       "    </tr>\n",
       "  </thead>\n",
       "  <tbody>\n",
       "    <tr>\n",
       "      <th>0</th>\n",
       "      <td>2020-09-04</td>\n",
       "      <td>web</td>\n",
       "      <td>Spectra</td>\n",
       "      <td>The Leela Ambience, Gurgaon</td>\n",
       "      <td>5015431352112</td>\n",
       "      <td>Juhi Agrawal</td>\n",
       "      <td>Delhi NCR</td>\n",
       "      <td>F</td>\n",
       "      <td>72</td>\n",
       "      <td>web</td>\n",
       "      <td>2020-09-01</td>\n",
       "      <td>web</td>\n",
       "      <td>3.0</td>\n",
       "      <td>1</td>\n",
       "    </tr>\n",
       "    <tr>\n",
       "      <th>1</th>\n",
       "      <td>NaT</td>\n",
       "      <td>NaN</td>\n",
       "      <td>NaN</td>\n",
       "      <td>NaN</td>\n",
       "      <td>5015431352113</td>\n",
       "      <td>Manish</td>\n",
       "      <td>Delhi NCR</td>\n",
       "      <td>M</td>\n",
       "      <td>45</td>\n",
       "      <td>android</td>\n",
       "      <td>2020-09-01</td>\n",
       "      <td>android</td>\n",
       "      <td>NaN</td>\n",
       "      <td>0</td>\n",
       "    </tr>\n",
       "    <tr>\n",
       "      <th>2</th>\n",
       "      <td>NaT</td>\n",
       "      <td>NaN</td>\n",
       "      <td>NaN</td>\n",
       "      <td>NaN</td>\n",
       "      <td>5015431352114</td>\n",
       "      <td>mani</td>\n",
       "      <td>Chennai</td>\n",
       "      <td>M</td>\n",
       "      <td>29</td>\n",
       "      <td>android</td>\n",
       "      <td>2020-09-01</td>\n",
       "      <td>android</td>\n",
       "      <td>NaN</td>\n",
       "      <td>0</td>\n",
       "    </tr>\n",
       "    <tr>\n",
       "      <th>3</th>\n",
       "      <td>2020-09-06</td>\n",
       "      <td>google</td>\n",
       "      <td>Barbeque Nation</td>\n",
       "      <td>Park Street Area, Kolkata</td>\n",
       "      <td>5015431352115</td>\n",
       "      <td>Rija</td>\n",
       "      <td>Kolkata</td>\n",
       "      <td>F</td>\n",
       "      <td>60</td>\n",
       "      <td>google</td>\n",
       "      <td>2020-09-01</td>\n",
       "      <td>google</td>\n",
       "      <td>5.0</td>\n",
       "      <td>1</td>\n",
       "    </tr>\n",
       "    <tr>\n",
       "      <th>4</th>\n",
       "      <td>NaT</td>\n",
       "      <td>NaN</td>\n",
       "      <td>NaN</td>\n",
       "      <td>NaN</td>\n",
       "      <td>5015431352120</td>\n",
       "      <td>Bharath</td>\n",
       "      <td>NaN</td>\n",
       "      <td>NaN</td>\n",
       "      <td>32</td>\n",
       "      <td>google</td>\n",
       "      <td>2020-09-01</td>\n",
       "      <td>google</td>\n",
       "      <td>NaN</td>\n",
       "      <td>0</td>\n",
       "    </tr>\n",
       "  </tbody>\n",
       "</table>\n",
       "</div>"
      ],
      "text/plain": [
       "        date medium_x  restaurant_name                     location  \\\n",
       "0 2020-09-04      web          Spectra  The Leela Ambience, Gurgaon   \n",
       "1        NaT      NaN              NaN                          NaN   \n",
       "2        NaT      NaN              NaN                          NaN   \n",
       "3 2020-09-06   google  Barbeque Nation    Park Street Area, Kolkata   \n",
       "4        NaT      NaN              NaN                          NaN   \n",
       "\n",
       "         cust_id          name       city gender  AGE medium_y signup_date  \\\n",
       "0  5015431352112  Juhi Agrawal  Delhi NCR      F   72      web  2020-09-01   \n",
       "1  5015431352113        Manish  Delhi NCR      M   45  android  2020-09-01   \n",
       "2  5015431352114          mani    Chennai      M   29  android  2020-09-01   \n",
       "3  5015431352115          Rija    Kolkata      F   60   google  2020-09-01   \n",
       "4  5015431352120       Bharath        NaN    NaN   32   google  2020-09-01   \n",
       "\n",
       "    medium  duration  booked  \n",
       "0      web       3.0       1  \n",
       "1  android       NaN       0  \n",
       "2  android       NaN       0  \n",
       "3   google       5.0       1  \n",
       "4   google       NaN       0  "
      ]
     },
     "execution_count": 18,
     "metadata": {},
     "output_type": "execute_result"
    }
   ],
   "source": [
    "data3.head()"
   ]
  },
  {
   "cell_type": "code",
   "execution_count": 19,
   "metadata": {},
   "outputs": [
    {
     "data": {
      "text/plain": [
       "date               37022\n",
       "medium_x           37021\n",
       "restaurant_name    37021\n",
       "location           37021\n",
       "cust_id                0\n",
       "name                5598\n",
       "city               17733\n",
       "gender             93655\n",
       "AGE                    0\n",
       "medium_y               0\n",
       "signup_date            0\n",
       "medium                 0\n",
       "duration           37022\n",
       "booked                 0\n",
       "dtype: int64"
      ]
     },
     "execution_count": 19,
     "metadata": {},
     "output_type": "execute_result"
    }
   ],
   "source": [
    "data3.isnull().sum()"
   ]
  },
  {
   "cell_type": "markdown",
   "metadata": {},
   "source": [
    "Now for the null values in duration column we will insert the number that is most common and more than 7 so that in the booked column they are accepted as 0 since we cannot directly drop them."
   ]
  },
  {
   "cell_type": "code",
   "execution_count": 20,
   "metadata": {},
   "outputs": [
    {
     "data": {
      "text/plain": [
       "0.0     30522\n",
       "1.0     13570\n",
       "2.0      4087\n",
       "3.0      2310\n",
       "4.0      1538\n",
       "5.0      1056\n",
       "6.0       849\n",
       "7.0       754\n",
       "8.0       541\n",
       "9.0       497\n",
       "10.0      383\n",
       "11.0      339\n",
       "12.0      296\n",
       "14.0      292\n",
       "13.0      269\n",
       "Name: duration, dtype: int64"
      ]
     },
     "execution_count": 20,
     "metadata": {},
     "output_type": "execute_result"
    }
   ],
   "source": [
    "data3['duration'].value_counts().head(15)"
   ]
  },
  {
   "cell_type": "markdown",
   "metadata": {},
   "source": [
    "Here we can see that the number grater than 7 with most occurences is 8 hence we will replace all the null values with 8."
   ]
  },
  {
   "cell_type": "code",
   "execution_count": 21,
   "metadata": {},
   "outputs": [],
   "source": [
    "data3['duration'] = data3['duration'].fillna(8).astype(int)"
   ]
  },
  {
   "cell_type": "code",
   "execution_count": 22,
   "metadata": {},
   "outputs": [
    {
     "data": {
      "text/html": [
       "<div>\n",
       "<style scoped>\n",
       "    .dataframe tbody tr th:only-of-type {\n",
       "        vertical-align: middle;\n",
       "    }\n",
       "\n",
       "    .dataframe tbody tr th {\n",
       "        vertical-align: top;\n",
       "    }\n",
       "\n",
       "    .dataframe thead th {\n",
       "        text-align: right;\n",
       "    }\n",
       "</style>\n",
       "<table border=\"1\" class=\"dataframe\">\n",
       "  <thead>\n",
       "    <tr style=\"text-align: right;\">\n",
       "      <th></th>\n",
       "      <th>date</th>\n",
       "      <th>medium_x</th>\n",
       "      <th>restaurant_name</th>\n",
       "      <th>location</th>\n",
       "      <th>cust_id</th>\n",
       "      <th>name</th>\n",
       "      <th>city</th>\n",
       "      <th>gender</th>\n",
       "      <th>AGE</th>\n",
       "      <th>medium_y</th>\n",
       "      <th>signup_date</th>\n",
       "      <th>medium</th>\n",
       "      <th>duration</th>\n",
       "      <th>booked</th>\n",
       "    </tr>\n",
       "  </thead>\n",
       "  <tbody>\n",
       "    <tr>\n",
       "      <th>0</th>\n",
       "      <td>2020-09-04</td>\n",
       "      <td>web</td>\n",
       "      <td>Spectra</td>\n",
       "      <td>The Leela Ambience, Gurgaon</td>\n",
       "      <td>5015431352112</td>\n",
       "      <td>Juhi Agrawal</td>\n",
       "      <td>Delhi NCR</td>\n",
       "      <td>F</td>\n",
       "      <td>72</td>\n",
       "      <td>web</td>\n",
       "      <td>2020-09-01</td>\n",
       "      <td>web</td>\n",
       "      <td>3</td>\n",
       "      <td>1</td>\n",
       "    </tr>\n",
       "    <tr>\n",
       "      <th>1</th>\n",
       "      <td>NaT</td>\n",
       "      <td>NaN</td>\n",
       "      <td>NaN</td>\n",
       "      <td>NaN</td>\n",
       "      <td>5015431352113</td>\n",
       "      <td>Manish</td>\n",
       "      <td>Delhi NCR</td>\n",
       "      <td>M</td>\n",
       "      <td>45</td>\n",
       "      <td>android</td>\n",
       "      <td>2020-09-01</td>\n",
       "      <td>android</td>\n",
       "      <td>8</td>\n",
       "      <td>0</td>\n",
       "    </tr>\n",
       "    <tr>\n",
       "      <th>2</th>\n",
       "      <td>NaT</td>\n",
       "      <td>NaN</td>\n",
       "      <td>NaN</td>\n",
       "      <td>NaN</td>\n",
       "      <td>5015431352114</td>\n",
       "      <td>mani</td>\n",
       "      <td>Chennai</td>\n",
       "      <td>M</td>\n",
       "      <td>29</td>\n",
       "      <td>android</td>\n",
       "      <td>2020-09-01</td>\n",
       "      <td>android</td>\n",
       "      <td>8</td>\n",
       "      <td>0</td>\n",
       "    </tr>\n",
       "    <tr>\n",
       "      <th>3</th>\n",
       "      <td>2020-09-06</td>\n",
       "      <td>google</td>\n",
       "      <td>Barbeque Nation</td>\n",
       "      <td>Park Street Area, Kolkata</td>\n",
       "      <td>5015431352115</td>\n",
       "      <td>Rija</td>\n",
       "      <td>Kolkata</td>\n",
       "      <td>F</td>\n",
       "      <td>60</td>\n",
       "      <td>google</td>\n",
       "      <td>2020-09-01</td>\n",
       "      <td>google</td>\n",
       "      <td>5</td>\n",
       "      <td>1</td>\n",
       "    </tr>\n",
       "    <tr>\n",
       "      <th>4</th>\n",
       "      <td>NaT</td>\n",
       "      <td>NaN</td>\n",
       "      <td>NaN</td>\n",
       "      <td>NaN</td>\n",
       "      <td>5015431352120</td>\n",
       "      <td>Bharath</td>\n",
       "      <td>NaN</td>\n",
       "      <td>NaN</td>\n",
       "      <td>32</td>\n",
       "      <td>google</td>\n",
       "      <td>2020-09-01</td>\n",
       "      <td>google</td>\n",
       "      <td>8</td>\n",
       "      <td>0</td>\n",
       "    </tr>\n",
       "  </tbody>\n",
       "</table>\n",
       "</div>"
      ],
      "text/plain": [
       "        date medium_x  restaurant_name                     location  \\\n",
       "0 2020-09-04      web          Spectra  The Leela Ambience, Gurgaon   \n",
       "1        NaT      NaN              NaN                          NaN   \n",
       "2        NaT      NaN              NaN                          NaN   \n",
       "3 2020-09-06   google  Barbeque Nation    Park Street Area, Kolkata   \n",
       "4        NaT      NaN              NaN                          NaN   \n",
       "\n",
       "         cust_id          name       city gender  AGE medium_y signup_date  \\\n",
       "0  5015431352112  Juhi Agrawal  Delhi NCR      F   72      web  2020-09-01   \n",
       "1  5015431352113        Manish  Delhi NCR      M   45  android  2020-09-01   \n",
       "2  5015431352114          mani    Chennai      M   29  android  2020-09-01   \n",
       "3  5015431352115          Rija    Kolkata      F   60   google  2020-09-01   \n",
       "4  5015431352120       Bharath        NaN    NaN   32   google  2020-09-01   \n",
       "\n",
       "    medium  duration  booked  \n",
       "0      web         3       1  \n",
       "1  android         8       0  \n",
       "2  android         8       0  \n",
       "3   google         5       1  \n",
       "4   google         8       0  "
      ]
     },
     "execution_count": 22,
     "metadata": {},
     "output_type": "execute_result"
    }
   ],
   "source": [
    "data3.head()"
   ]
  },
  {
   "cell_type": "code",
   "execution_count": 23,
   "metadata": {},
   "outputs": [],
   "source": [
    "data3['location']=data3['location'].fillna('location_null').astype(str)"
   ]
  },
  {
   "cell_type": "code",
   "execution_count": 24,
   "metadata": {},
   "outputs": [],
   "source": [
    "data3['restaurant_name']=data3['restaurant_name'].fillna('retaurant_name_null').astype(str)"
   ]
  },
  {
   "cell_type": "code",
   "execution_count": 25,
   "metadata": {},
   "outputs": [
    {
     "data": {
      "text/html": [
       "<div>\n",
       "<style scoped>\n",
       "    .dataframe tbody tr th:only-of-type {\n",
       "        vertical-align: middle;\n",
       "    }\n",
       "\n",
       "    .dataframe tbody tr th {\n",
       "        vertical-align: top;\n",
       "    }\n",
       "\n",
       "    .dataframe thead th {\n",
       "        text-align: right;\n",
       "    }\n",
       "</style>\n",
       "<table border=\"1\" class=\"dataframe\">\n",
       "  <thead>\n",
       "    <tr style=\"text-align: right;\">\n",
       "      <th></th>\n",
       "      <th>date</th>\n",
       "      <th>medium_x</th>\n",
       "      <th>restaurant_name</th>\n",
       "      <th>location</th>\n",
       "      <th>cust_id</th>\n",
       "      <th>name</th>\n",
       "      <th>city</th>\n",
       "      <th>gender</th>\n",
       "      <th>AGE</th>\n",
       "      <th>medium_y</th>\n",
       "      <th>signup_date</th>\n",
       "      <th>medium</th>\n",
       "      <th>duration</th>\n",
       "      <th>booked</th>\n",
       "    </tr>\n",
       "  </thead>\n",
       "  <tbody>\n",
       "    <tr>\n",
       "      <th>0</th>\n",
       "      <td>2020-09-04</td>\n",
       "      <td>web</td>\n",
       "      <td>Spectra</td>\n",
       "      <td>The Leela Ambience, Gurgaon</td>\n",
       "      <td>5015431352112</td>\n",
       "      <td>Juhi Agrawal</td>\n",
       "      <td>Delhi NCR</td>\n",
       "      <td>F</td>\n",
       "      <td>72</td>\n",
       "      <td>web</td>\n",
       "      <td>2020-09-01</td>\n",
       "      <td>web</td>\n",
       "      <td>3</td>\n",
       "      <td>1</td>\n",
       "    </tr>\n",
       "    <tr>\n",
       "      <th>1</th>\n",
       "      <td>NaT</td>\n",
       "      <td>NaN</td>\n",
       "      <td>retaurant_name_null</td>\n",
       "      <td>location_null</td>\n",
       "      <td>5015431352113</td>\n",
       "      <td>Manish</td>\n",
       "      <td>Delhi NCR</td>\n",
       "      <td>M</td>\n",
       "      <td>45</td>\n",
       "      <td>android</td>\n",
       "      <td>2020-09-01</td>\n",
       "      <td>android</td>\n",
       "      <td>8</td>\n",
       "      <td>0</td>\n",
       "    </tr>\n",
       "    <tr>\n",
       "      <th>2</th>\n",
       "      <td>NaT</td>\n",
       "      <td>NaN</td>\n",
       "      <td>retaurant_name_null</td>\n",
       "      <td>location_null</td>\n",
       "      <td>5015431352114</td>\n",
       "      <td>mani</td>\n",
       "      <td>Chennai</td>\n",
       "      <td>M</td>\n",
       "      <td>29</td>\n",
       "      <td>android</td>\n",
       "      <td>2020-09-01</td>\n",
       "      <td>android</td>\n",
       "      <td>8</td>\n",
       "      <td>0</td>\n",
       "    </tr>\n",
       "    <tr>\n",
       "      <th>3</th>\n",
       "      <td>2020-09-06</td>\n",
       "      <td>google</td>\n",
       "      <td>Barbeque Nation</td>\n",
       "      <td>Park Street Area, Kolkata</td>\n",
       "      <td>5015431352115</td>\n",
       "      <td>Rija</td>\n",
       "      <td>Kolkata</td>\n",
       "      <td>F</td>\n",
       "      <td>60</td>\n",
       "      <td>google</td>\n",
       "      <td>2020-09-01</td>\n",
       "      <td>google</td>\n",
       "      <td>5</td>\n",
       "      <td>1</td>\n",
       "    </tr>\n",
       "    <tr>\n",
       "      <th>4</th>\n",
       "      <td>NaT</td>\n",
       "      <td>NaN</td>\n",
       "      <td>retaurant_name_null</td>\n",
       "      <td>location_null</td>\n",
       "      <td>5015431352120</td>\n",
       "      <td>Bharath</td>\n",
       "      <td>NaN</td>\n",
       "      <td>NaN</td>\n",
       "      <td>32</td>\n",
       "      <td>google</td>\n",
       "      <td>2020-09-01</td>\n",
       "      <td>google</td>\n",
       "      <td>8</td>\n",
       "      <td>0</td>\n",
       "    </tr>\n",
       "  </tbody>\n",
       "</table>\n",
       "</div>"
      ],
      "text/plain": [
       "        date medium_x      restaurant_name                     location  \\\n",
       "0 2020-09-04      web              Spectra  The Leela Ambience, Gurgaon   \n",
       "1        NaT      NaN  retaurant_name_null                location_null   \n",
       "2        NaT      NaN  retaurant_name_null                location_null   \n",
       "3 2020-09-06   google      Barbeque Nation    Park Street Area, Kolkata   \n",
       "4        NaT      NaN  retaurant_name_null                location_null   \n",
       "\n",
       "         cust_id          name       city gender  AGE medium_y signup_date  \\\n",
       "0  5015431352112  Juhi Agrawal  Delhi NCR      F   72      web  2020-09-01   \n",
       "1  5015431352113        Manish  Delhi NCR      M   45  android  2020-09-01   \n",
       "2  5015431352114          mani    Chennai      M   29  android  2020-09-01   \n",
       "3  5015431352115          Rija    Kolkata      F   60   google  2020-09-01   \n",
       "4  5015431352120       Bharath        NaN    NaN   32   google  2020-09-01   \n",
       "\n",
       "    medium  duration  booked  \n",
       "0      web         3       1  \n",
       "1  android         8       0  \n",
       "2  android         8       0  \n",
       "3   google         5       1  \n",
       "4   google         8       0  "
      ]
     },
     "execution_count": 25,
     "metadata": {},
     "output_type": "execute_result"
    }
   ],
   "source": [
    "data3.head()"
   ]
  },
  {
   "cell_type": "code",
   "execution_count": 26,
   "metadata": {},
   "outputs": [
    {
     "data": {
      "text/html": [
       "<div>\n",
       "<style scoped>\n",
       "    .dataframe tbody tr th:only-of-type {\n",
       "        vertical-align: middle;\n",
       "    }\n",
       "\n",
       "    .dataframe tbody tr th {\n",
       "        vertical-align: top;\n",
       "    }\n",
       "\n",
       "    .dataframe thead th {\n",
       "        text-align: right;\n",
       "    }\n",
       "</style>\n",
       "<table border=\"1\" class=\"dataframe\">\n",
       "  <thead>\n",
       "    <tr style=\"text-align: right;\">\n",
       "      <th>city</th>\n",
       "      <th>False</th>\n",
       "      <th>True</th>\n",
       "    </tr>\n",
       "    <tr>\n",
       "      <th>booked</th>\n",
       "      <th></th>\n",
       "      <th></th>\n",
       "    </tr>\n",
       "  </thead>\n",
       "  <tbody>\n",
       "    <tr>\n",
       "      <th>0</th>\n",
       "      <td>25934.0</td>\n",
       "      <td>17733.0</td>\n",
       "    </tr>\n",
       "    <tr>\n",
       "      <th>1</th>\n",
       "      <td>54687.0</td>\n",
       "      <td>NaN</td>\n",
       "    </tr>\n",
       "  </tbody>\n",
       "</table>\n",
       "</div>"
      ],
      "text/plain": [
       "city      False    True \n",
       "booked                  \n",
       "0       25934.0  17733.0\n",
       "1       54687.0      NaN"
      ]
     },
     "execution_count": 26,
     "metadata": {},
     "output_type": "execute_result"
    }
   ],
   "source": [
    "data3.groupby(data3['city'].isnull()).booked.value_counts().unstack('city')"
   ]
  },
  {
   "cell_type": "code",
   "execution_count": 27,
   "metadata": {},
   "outputs": [],
   "source": [
    "data3['city'] = data3['city'].fillna('city_null')"
   ]
  },
  {
   "cell_type": "code",
   "execution_count": 28,
   "metadata": {},
   "outputs": [
    {
     "data": {
      "text/html": [
       "<div>\n",
       "<style scoped>\n",
       "    .dataframe tbody tr th:only-of-type {\n",
       "        vertical-align: middle;\n",
       "    }\n",
       "\n",
       "    .dataframe tbody tr th {\n",
       "        vertical-align: top;\n",
       "    }\n",
       "\n",
       "    .dataframe thead th {\n",
       "        text-align: right;\n",
       "    }\n",
       "</style>\n",
       "<table border=\"1\" class=\"dataframe\">\n",
       "  <thead>\n",
       "    <tr style=\"text-align: right;\">\n",
       "      <th></th>\n",
       "      <th>date</th>\n",
       "      <th>medium_x</th>\n",
       "      <th>restaurant_name</th>\n",
       "      <th>location</th>\n",
       "      <th>cust_id</th>\n",
       "      <th>name</th>\n",
       "      <th>city</th>\n",
       "      <th>gender</th>\n",
       "      <th>AGE</th>\n",
       "      <th>medium_y</th>\n",
       "      <th>signup_date</th>\n",
       "      <th>medium</th>\n",
       "      <th>duration</th>\n",
       "      <th>booked</th>\n",
       "    </tr>\n",
       "  </thead>\n",
       "  <tbody>\n",
       "    <tr>\n",
       "      <th>4</th>\n",
       "      <td>NaT</td>\n",
       "      <td>NaN</td>\n",
       "      <td>retaurant_name_null</td>\n",
       "      <td>location_null</td>\n",
       "      <td>5015431352120</td>\n",
       "      <td>Bharath</td>\n",
       "      <td>city_null</td>\n",
       "      <td>NaN</td>\n",
       "      <td>32</td>\n",
       "      <td>google</td>\n",
       "      <td>2020-09-01</td>\n",
       "      <td>google</td>\n",
       "      <td>8</td>\n",
       "      <td>0</td>\n",
       "    </tr>\n",
       "    <tr>\n",
       "      <th>16</th>\n",
       "      <td>NaT</td>\n",
       "      <td>NaN</td>\n",
       "      <td>retaurant_name_null</td>\n",
       "      <td>location_null</td>\n",
       "      <td>5015431352140</td>\n",
       "      <td>NaN</td>\n",
       "      <td>city_null</td>\n",
       "      <td>M</td>\n",
       "      <td>40</td>\n",
       "      <td>android</td>\n",
       "      <td>2020-09-01</td>\n",
       "      <td>android</td>\n",
       "      <td>8</td>\n",
       "      <td>0</td>\n",
       "    </tr>\n",
       "    <tr>\n",
       "      <th>18</th>\n",
       "      <td>NaT</td>\n",
       "      <td>NaN</td>\n",
       "      <td>retaurant_name_null</td>\n",
       "      <td>location_null</td>\n",
       "      <td>5015431352142</td>\n",
       "      <td>NaN</td>\n",
       "      <td>city_null</td>\n",
       "      <td>M</td>\n",
       "      <td>18</td>\n",
       "      <td>android</td>\n",
       "      <td>2020-09-01</td>\n",
       "      <td>android</td>\n",
       "      <td>8</td>\n",
       "      <td>0</td>\n",
       "    </tr>\n",
       "  </tbody>\n",
       "</table>\n",
       "</div>"
      ],
      "text/plain": [
       "   date medium_x      restaurant_name       location        cust_id     name  \\\n",
       "4   NaT      NaN  retaurant_name_null  location_null  5015431352120  Bharath   \n",
       "16  NaT      NaN  retaurant_name_null  location_null  5015431352140      NaN   \n",
       "18  NaT      NaN  retaurant_name_null  location_null  5015431352142      NaN   \n",
       "\n",
       "         city gender  AGE medium_y signup_date   medium  duration  booked  \n",
       "4   city_null    NaN   32   google  2020-09-01   google         8       0  \n",
       "16  city_null      M   40  android  2020-09-01  android         8       0  \n",
       "18  city_null      M   18  android  2020-09-01  android         8       0  "
      ]
     },
     "execution_count": 28,
     "metadata": {},
     "output_type": "execute_result"
    }
   ],
   "source": [
    "data3[data3['city']=='city_null'].head(3)"
   ]
  },
  {
   "cell_type": "code",
   "execution_count": 29,
   "metadata": {},
   "outputs": [
    {
     "data": {
      "text/plain": [
       "date               37022\n",
       "medium_x           37021\n",
       "restaurant_name        0\n",
       "location               0\n",
       "cust_id                0\n",
       "name                5598\n",
       "city                   0\n",
       "gender             93655\n",
       "AGE                    0\n",
       "medium_y               0\n",
       "signup_date            0\n",
       "medium                 0\n",
       "duration               0\n",
       "booked                 0\n",
       "dtype: int64"
      ]
     },
     "execution_count": 29,
     "metadata": {},
     "output_type": "execute_result"
    }
   ],
   "source": [
    "data3.isnull().sum()"
   ]
  },
  {
   "cell_type": "code",
   "execution_count": 30,
   "metadata": {},
   "outputs": [
    {
     "data": {
      "text/plain": [
       "1    54687\n",
       "0    43667\n",
       "Name: booked, dtype: int64"
      ]
     },
     "execution_count": 30,
     "metadata": {},
     "output_type": "execute_result"
    }
   ],
   "source": [
    "data3['booked'].value_counts()"
   ]
  },
  {
   "cell_type": "code",
   "execution_count": 31,
   "metadata": {},
   "outputs": [
    {
     "data": {
      "text/plain": [
       "<matplotlib.axes._subplots.AxesSubplot at 0x202dfb6a1f0>"
      ]
     },
     "execution_count": 31,
     "metadata": {},
     "output_type": "execute_result"
    },
    {
     "data": {
      "image/png": "[encoded data removed]",
      "text/plain": [
       "<Figure size 432x288 with 1 Axes>"
      ]
     },
     "metadata": {
      "needs_background": "light"
     },
     "output_type": "display_data"
    }
   ],
   "source": [
    "sns.countplot('booked',data=data3)"
   ]
  },
  {
   "cell_type": "markdown",
   "metadata": {},
   "source": [
    "Now we will write a code to find out the number of unique values in the relevant columns restaurant_name, location, city and medium respectively"
   ]
  },
  {
   "cell_type": "code",
   "execution_count": 32,
   "metadata": {},
   "outputs": [
    {
     "name": "stdout",
     "output_type": "stream",
     "text": [
      "Number of unique values in restaurant_name : 2314\n",
      "Number of unique values in location : 1232\n",
      "Number of unique values in city : 168\n",
      "Number of unique values in medium : 6\n"
     ]
    }
   ],
   "source": [
    "cols = ['restaurant_name','location','city','medium']\n",
    "for i in data3[cols]:\n",
    "    print('Number of unique values in {} : {}'.format(i, len(data3[i].unique())))"
   ]
  },
  {
   "cell_type": "markdown",
   "metadata": {},
   "source": [
    "We can see that there are very large number of unique categories in the columns restaurant_name, location and city and hence after encoding the number of columns will increase by a large amount and this may introduce the curse of dimensionality. There will be very large number of feature which will in turn increase the error and time of computation.\n",
    "\n",
    "To prevent this we will encode the top 25 frequent categories in each column which will decrease our number of columns and will also reduce time of computation and prevent the curse of dimensionality."
   ]
  },
  {
   "cell_type": "code",
   "execution_count": 64,
   "metadata": {},
   "outputs": [
    {
     "name": "stdout",
     "output_type": "stream",
     "text": [
      "['retaurant_name_null', 'Barbeque Nation', \"AB's - Absolute Barbecues\", 'Byg Brewski Brewing Company', 'Mainland China', 'Runway1', \"The Fisherman's Wharf\", 'Flame & Grill', 'Barbeque nation', 'Sigree Global Grill', 'The G.T. Road', 'Uru Brewpark', 'Olive Bistro', '6 Ballygunge Place', 'BOA VILLAGE', 'JW Kitchen', 'Punjab Grill', 'Claw BBQ Crabshack & Grill', 'Farzi Cafe', 'Lord of the Drinks', 'Olive Bar & Kitchen', 'Oh! Calcutta', 'DRAMZ', 'The Big Barbeque', 'Bukhara']\n"
     ]
    }
   ],
   "source": [
    "list1=data3.restaurant_name.value_counts().sort_values(ascending=False).head(25).index\n",
    "list1=list(list1)\n",
    "print(list1)"
   ]
  },
  {
   "cell_type": "code",
   "execution_count": 65,
   "metadata": {},
   "outputs": [],
   "source": [
    "for categories in list1:\n",
    "  data3['r' + '_' + categories]=np.where(data3['restaurant_name']==categories,1,0)"
   ]
  },
  {
   "cell_type": "code",
   "execution_count": 66,
   "metadata": {},
   "outputs": [
    {
     "name": "stdout",
     "output_type": "stream",
     "text": [
      "['location_null', 'Connaught Place (CP), Central Delhi', 'Banjara Hills, Hyderabad', 'Patna', 'JP Nagar, South Bengaluru', 'Visakhapatnam', 'Indiranagar, East Bengaluru', 'Jubilee Hills, Hyderabad', 'Rajajinagar, West Bengaluru', 'Mehrauli, South Delhi', 'Hennur, North Bengaluru', 'Sector 26, Chandigarh', 'Guwahati', 'Vijayawada', 'Koramangala, South Bengaluru', 'Sarjapur Road, South Bengaluru', 'Durgapur', 'Tirupati', 'Bhubaneswar', 'Coimbatore', 'Metro Walk Mall, Rohini', 'Trichy', 'Park Street Area, Kolkata', 'Kalyan Nagar, North Bengaluru', 'Gachibowli, Hyderabad']\n"
     ]
    }
   ],
   "source": [
    "list2=data3.location.value_counts().sort_values(ascending=False).head(25).index\n",
    "list2=list(list2)\n",
    "print(list2)"
   ]
  },
  {
   "cell_type": "code",
   "execution_count": 67,
   "metadata": {},
   "outputs": [],
   "source": [
    "for category in list2:\n",
    "    data3['L' + '_' + category]=np.where(data3['location']==category,1,0)"
   ]
  },
  {
   "cell_type": "code",
   "execution_count": 68,
   "metadata": {},
   "outputs": [
    {
     "name": "stdout",
     "output_type": "stream",
     "text": [
      "['city_null', 'Delhi NCR', 'Bengaluru', 'Hyderabad', 'Mumbai', 'Kolkata', 'Chennai', 'Pune', 'Chandigarh', 'Dubai', 'Patna', 'Goa', 'Jaipur', 'Visakhapatnam', 'Ahmedabad', 'Lucknow', 'Guwahati', 'Vijayawada', 'Durgapur', 'Tirupati', 'Bhubaneswar', 'Coimbatore', 'Trichy', 'Ludhiana', 'Madurai']\n"
     ]
    }
   ],
   "source": [
    "list3=data3.city.value_counts().sort_values(ascending=False).head(25).index\n",
    "list3=list(list3)\n",
    "print(list3)"
   ]
  },
  {
   "cell_type": "code",
   "execution_count": 69,
   "metadata": {},
   "outputs": [],
   "source": [
    "for cat in list3:\n",
    "   data3['C' + '_' + cat]=np.where(data3['city']==cat,1,0)"
   ]
  },
  {
   "cell_type": "code",
   "execution_count": 70,
   "metadata": {},
   "outputs": [],
   "source": [
    "df = pd.get_dummies(data3['medium'],drop_first=True)"
   ]
  },
  {
   "cell_type": "code",
   "execution_count": 71,
   "metadata": {},
   "outputs": [],
   "source": [
    "data3_final = pd.concat([df,data3],axis=1)"
   ]
  },
  {
   "cell_type": "code",
   "execution_count": 72,
   "metadata": {},
   "outputs": [
    {
     "data": {
      "text/html": [
       "<div>\n",
       "<style scoped>\n",
       "    .dataframe tbody tr th:only-of-type {\n",
       "        vertical-align: middle;\n",
       "    }\n",
       "\n",
       "    .dataframe tbody tr th {\n",
       "        vertical-align: top;\n",
       "    }\n",
       "\n",
       "    .dataframe thead th {\n",
       "        text-align: right;\n",
       "    }\n",
       "</style>\n",
       "<table border=\"1\" class=\"dataframe\">\n",
       "  <thead>\n",
       "    <tr style=\"text-align: right;\">\n",
       "      <th></th>\n",
       "      <th>api_partner</th>\n",
       "      <th>concierge</th>\n",
       "      <th>google</th>\n",
       "      <th>ios</th>\n",
       "      <th>web</th>\n",
       "      <th>date</th>\n",
       "      <th>medium_x</th>\n",
       "      <th>restaurant_name</th>\n",
       "      <th>location</th>\n",
       "      <th>cust_id</th>\n",
       "      <th>...</th>\n",
       "      <th>C_Mangalore</th>\n",
       "      <th>C_Nagpur</th>\n",
       "      <th>C_Nellore</th>\n",
       "      <th>C_Jalandhar</th>\n",
       "      <th>C_Agra</th>\n",
       "      <th>C_Dehradun</th>\n",
       "      <th>C_Vellore</th>\n",
       "      <th>C_Jammu</th>\n",
       "      <th>C_Prayagraj</th>\n",
       "      <th>C_Kolhapur</th>\n",
       "    </tr>\n",
       "  </thead>\n",
       "  <tbody>\n",
       "    <tr>\n",
       "      <th>0</th>\n",
       "      <td>0</td>\n",
       "      <td>0</td>\n",
       "      <td>0</td>\n",
       "      <td>0</td>\n",
       "      <td>1</td>\n",
       "      <td>2020-09-04</td>\n",
       "      <td>web</td>\n",
       "      <td>Spectra</td>\n",
       "      <td>The Leela Ambience, Gurgaon</td>\n",
       "      <td>5015431352112</td>\n",
       "      <td>...</td>\n",
       "      <td>0</td>\n",
       "      <td>0</td>\n",
       "      <td>0</td>\n",
       "      <td>0</td>\n",
       "      <td>0</td>\n",
       "      <td>0</td>\n",
       "      <td>0</td>\n",
       "      <td>0</td>\n",
       "      <td>0</td>\n",
       "      <td>0</td>\n",
       "    </tr>\n",
       "    <tr>\n",
       "      <th>1</th>\n",
       "      <td>0</td>\n",
       "      <td>0</td>\n",
       "      <td>0</td>\n",
       "      <td>0</td>\n",
       "      <td>0</td>\n",
       "      <td>NaT</td>\n",
       "      <td>NaN</td>\n",
       "      <td>retaurant_name_null</td>\n",
       "      <td>location_null</td>\n",
       "      <td>5015431352113</td>\n",
       "      <td>...</td>\n",
       "      <td>0</td>\n",
       "      <td>0</td>\n",
       "      <td>0</td>\n",
       "      <td>0</td>\n",
       "      <td>0</td>\n",
       "      <td>0</td>\n",
       "      <td>0</td>\n",
       "      <td>0</td>\n",
       "      <td>0</td>\n",
       "      <td>0</td>\n",
       "    </tr>\n",
       "    <tr>\n",
       "      <th>2</th>\n",
       "      <td>0</td>\n",
       "      <td>0</td>\n",
       "      <td>0</td>\n",
       "      <td>0</td>\n",
       "      <td>0</td>\n",
       "      <td>NaT</td>\n",
       "      <td>NaN</td>\n",
       "      <td>retaurant_name_null</td>\n",
       "      <td>location_null</td>\n",
       "      <td>5015431352114</td>\n",
       "      <td>...</td>\n",
       "      <td>0</td>\n",
       "      <td>0</td>\n",
       "      <td>0</td>\n",
       "      <td>0</td>\n",
       "      <td>0</td>\n",
       "      <td>0</td>\n",
       "      <td>0</td>\n",
       "      <td>0</td>\n",
       "      <td>0</td>\n",
       "      <td>0</td>\n",
       "    </tr>\n",
       "    <tr>\n",
       "      <th>3</th>\n",
       "      <td>0</td>\n",
       "      <td>0</td>\n",
       "      <td>1</td>\n",
       "      <td>0</td>\n",
       "      <td>0</td>\n",
       "      <td>2020-09-06</td>\n",
       "      <td>google</td>\n",
       "      <td>Barbeque Nation</td>\n",
       "      <td>Park Street Area, Kolkata</td>\n",
       "      <td>5015431352115</td>\n",
       "      <td>...</td>\n",
       "      <td>0</td>\n",
       "      <td>0</td>\n",
       "      <td>0</td>\n",
       "      <td>0</td>\n",
       "      <td>0</td>\n",
       "      <td>0</td>\n",
       "      <td>0</td>\n",
       "      <td>0</td>\n",
       "      <td>0</td>\n",
       "      <td>0</td>\n",
       "    </tr>\n",
       "    <tr>\n",
       "      <th>4</th>\n",
       "      <td>0</td>\n",
       "      <td>0</td>\n",
       "      <td>1</td>\n",
       "      <td>0</td>\n",
       "      <td>0</td>\n",
       "      <td>NaT</td>\n",
       "      <td>NaN</td>\n",
       "      <td>retaurant_name_null</td>\n",
       "      <td>location_null</td>\n",
       "      <td>5015431352120</td>\n",
       "      <td>...</td>\n",
       "      <td>0</td>\n",
       "      <td>0</td>\n",
       "      <td>0</td>\n",
       "      <td>0</td>\n",
       "      <td>0</td>\n",
       "      <td>0</td>\n",
       "      <td>0</td>\n",
       "      <td>0</td>\n",
       "      <td>0</td>\n",
       "      <td>0</td>\n",
       "    </tr>\n",
       "  </tbody>\n",
       "</table>\n",
       "<p>5 rows × 144 columns</p>\n",
       "</div>"
      ],
      "text/plain": [
       "   api_partner  concierge  google  ios  web       date medium_x  \\\n",
       "0            0          0       0    0    1 2020-09-04      web   \n",
       "1            0          0       0    0    0        NaT      NaN   \n",
       "2            0          0       0    0    0        NaT      NaN   \n",
       "3            0          0       1    0    0 2020-09-06   google   \n",
       "4            0          0       1    0    0        NaT      NaN   \n",
       "\n",
       "       restaurant_name                     location        cust_id  ...  \\\n",
       "0              Spectra  The Leela Ambience, Gurgaon  5015431352112  ...   \n",
       "1  retaurant_name_null                location_null  5015431352113  ...   \n",
       "2  retaurant_name_null                location_null  5015431352114  ...   \n",
       "3      Barbeque Nation    Park Street Area, Kolkata  5015431352115  ...   \n",
       "4  retaurant_name_null                location_null  5015431352120  ...   \n",
       "\n",
       "  C_Mangalore C_Nagpur C_Nellore  C_Jalandhar C_Agra C_Dehradun C_Vellore  \\\n",
       "0           0        0         0            0      0          0         0   \n",
       "1           0        0         0            0      0          0         0   \n",
       "2           0        0         0            0      0          0         0   \n",
       "3           0        0         0            0      0          0         0   \n",
       "4           0        0         0            0      0          0         0   \n",
       "\n",
       "   C_Jammu  C_Prayagraj  C_Kolhapur  \n",
       "0        0            0           0  \n",
       "1        0            0           0  \n",
       "2        0            0           0  \n",
       "3        0            0           0  \n",
       "4        0            0           0  \n",
       "\n",
       "[5 rows x 144 columns]"
      ]
     },
     "execution_count": 72,
     "metadata": {},
     "output_type": "execute_result"
    }
   ],
   "source": [
    "data3_final.head()"
   ]
  },
  {
   "cell_type": "markdown",
   "metadata": {},
   "source": [
    "Now we will split the features and label column to apply our ML model."
   ]
  },
  {
   "cell_type": "code",
   "execution_count": 73,
   "metadata": {},
   "outputs": [],
   "source": [
    "cols = ['date','medium_x','restaurant_name','location','cust_id','city','name','gender','medium_y','signup_date','booked','medium']\n",
    "X = data3_final.drop(data3[cols],axis=1)\n",
    "y = data3_final['booked']"
   ]
  },
  {
   "cell_type": "code",
   "execution_count": 74,
   "metadata": {},
   "outputs": [
    {
     "data": {
      "text/html": [
       "<div>\n",
       "<style scoped>\n",
       "    .dataframe tbody tr th:only-of-type {\n",
       "        vertical-align: middle;\n",
       "    }\n",
       "\n",
       "    .dataframe tbody tr th {\n",
       "        vertical-align: top;\n",
       "    }\n",
       "\n",
       "    .dataframe thead th {\n",
       "        text-align: right;\n",
       "    }\n",
       "</style>\n",
       "<table border=\"1\" class=\"dataframe\">\n",
       "  <thead>\n",
       "    <tr style=\"text-align: right;\">\n",
       "      <th></th>\n",
       "      <th>api_partner</th>\n",
       "      <th>concierge</th>\n",
       "      <th>google</th>\n",
       "      <th>ios</th>\n",
       "      <th>web</th>\n",
       "      <th>AGE</th>\n",
       "      <th>duration</th>\n",
       "      <th>r_retaurant_name_null</th>\n",
       "      <th>r_Barbeque Nation</th>\n",
       "      <th>r_AB's - Absolute Barbecues</th>\n",
       "      <th>...</th>\n",
       "      <th>C_Mangalore</th>\n",
       "      <th>C_Nagpur</th>\n",
       "      <th>C_Nellore</th>\n",
       "      <th>C_Jalandhar</th>\n",
       "      <th>C_Agra</th>\n",
       "      <th>C_Dehradun</th>\n",
       "      <th>C_Vellore</th>\n",
       "      <th>C_Jammu</th>\n",
       "      <th>C_Prayagraj</th>\n",
       "      <th>C_Kolhapur</th>\n",
       "    </tr>\n",
       "  </thead>\n",
       "  <tbody>\n",
       "    <tr>\n",
       "      <th>0</th>\n",
       "      <td>0</td>\n",
       "      <td>0</td>\n",
       "      <td>0</td>\n",
       "      <td>0</td>\n",
       "      <td>1</td>\n",
       "      <td>72</td>\n",
       "      <td>3</td>\n",
       "      <td>0</td>\n",
       "      <td>0</td>\n",
       "      <td>0</td>\n",
       "      <td>...</td>\n",
       "      <td>0</td>\n",
       "      <td>0</td>\n",
       "      <td>0</td>\n",
       "      <td>0</td>\n",
       "      <td>0</td>\n",
       "      <td>0</td>\n",
       "      <td>0</td>\n",
       "      <td>0</td>\n",
       "      <td>0</td>\n",
       "      <td>0</td>\n",
       "    </tr>\n",
       "    <tr>\n",
       "      <th>1</th>\n",
       "      <td>0</td>\n",
       "      <td>0</td>\n",
       "      <td>0</td>\n",
       "      <td>0</td>\n",
       "      <td>0</td>\n",
       "      <td>45</td>\n",
       "      <td>8</td>\n",
       "      <td>1</td>\n",
       "      <td>0</td>\n",
       "      <td>0</td>\n",
       "      <td>...</td>\n",
       "      <td>0</td>\n",
       "      <td>0</td>\n",
       "      <td>0</td>\n",
       "      <td>0</td>\n",
       "      <td>0</td>\n",
       "      <td>0</td>\n",
       "      <td>0</td>\n",
       "      <td>0</td>\n",
       "      <td>0</td>\n",
       "      <td>0</td>\n",
       "    </tr>\n",
       "    <tr>\n",
       "      <th>2</th>\n",
       "      <td>0</td>\n",
       "      <td>0</td>\n",
       "      <td>0</td>\n",
       "      <td>0</td>\n",
       "      <td>0</td>\n",
       "      <td>29</td>\n",
       "      <td>8</td>\n",
       "      <td>1</td>\n",
       "      <td>0</td>\n",
       "      <td>0</td>\n",
       "      <td>...</td>\n",
       "      <td>0</td>\n",
       "      <td>0</td>\n",
       "      <td>0</td>\n",
       "      <td>0</td>\n",
       "      <td>0</td>\n",
       "      <td>0</td>\n",
       "      <td>0</td>\n",
       "      <td>0</td>\n",
       "      <td>0</td>\n",
       "      <td>0</td>\n",
       "    </tr>\n",
       "    <tr>\n",
       "      <th>3</th>\n",
       "      <td>0</td>\n",
       "      <td>0</td>\n",
       "      <td>1</td>\n",
       "      <td>0</td>\n",
       "      <td>0</td>\n",
       "      <td>60</td>\n",
       "      <td>5</td>\n",
       "      <td>0</td>\n",
       "      <td>1</td>\n",
       "      <td>0</td>\n",
       "      <td>...</td>\n",
       "      <td>0</td>\n",
       "      <td>0</td>\n",
       "      <td>0</td>\n",
       "      <td>0</td>\n",
       "      <td>0</td>\n",
       "      <td>0</td>\n",
       "      <td>0</td>\n",
       "      <td>0</td>\n",
       "      <td>0</td>\n",
       "      <td>0</td>\n",
       "    </tr>\n",
       "    <tr>\n",
       "      <th>4</th>\n",
       "      <td>0</td>\n",
       "      <td>0</td>\n",
       "      <td>1</td>\n",
       "      <td>0</td>\n",
       "      <td>0</td>\n",
       "      <td>32</td>\n",
       "      <td>8</td>\n",
       "      <td>1</td>\n",
       "      <td>0</td>\n",
       "      <td>0</td>\n",
       "      <td>...</td>\n",
       "      <td>0</td>\n",
       "      <td>0</td>\n",
       "      <td>0</td>\n",
       "      <td>0</td>\n",
       "      <td>0</td>\n",
       "      <td>0</td>\n",
       "      <td>0</td>\n",
       "      <td>0</td>\n",
       "      <td>0</td>\n",
       "      <td>0</td>\n",
       "    </tr>\n",
       "  </tbody>\n",
       "</table>\n",
       "<p>5 rows × 132 columns</p>\n",
       "</div>"
      ],
      "text/plain": [
       "   api_partner  concierge  google  ios  web  AGE  duration  \\\n",
       "0            0          0       0    0    1   72         3   \n",
       "1            0          0       0    0    0   45         8   \n",
       "2            0          0       0    0    0   29         8   \n",
       "3            0          0       1    0    0   60         5   \n",
       "4            0          0       1    0    0   32         8   \n",
       "\n",
       "   r_retaurant_name_null  r_Barbeque Nation  r_AB's - Absolute Barbecues  ...  \\\n",
       "0                      0                  0                            0  ...   \n",
       "1                      1                  0                            0  ...   \n",
       "2                      1                  0                            0  ...   \n",
       "3                      0                  1                            0  ...   \n",
       "4                      1                  0                            0  ...   \n",
       "\n",
       "   C_Mangalore  C_Nagpur  C_Nellore  C_Jalandhar  C_Agra  C_Dehradun  \\\n",
       "0            0         0          0            0       0           0   \n",
       "1            0         0          0            0       0           0   \n",
       "2            0         0          0            0       0           0   \n",
       "3            0         0          0            0       0           0   \n",
       "4            0         0          0            0       0           0   \n",
       "\n",
       "   C_Vellore  C_Jammu  C_Prayagraj  C_Kolhapur  \n",
       "0          0        0            0           0  \n",
       "1          0        0            0           0  \n",
       "2          0        0            0           0  \n",
       "3          0        0            0           0  \n",
       "4          0        0            0           0  \n",
       "\n",
       "[5 rows x 132 columns]"
      ]
     },
     "execution_count": 74,
     "metadata": {},
     "output_type": "execute_result"
    }
   ],
   "source": [
    "X.head()"
   ]
  },
  {
   "cell_type": "code",
   "execution_count": 75,
   "metadata": {},
   "outputs": [
    {
     "data": {
      "text/plain": [
       "0    1\n",
       "1    0\n",
       "2    0\n",
       "3    1\n",
       "4    0\n",
       "Name: booked, dtype: int32"
      ]
     },
     "execution_count": 75,
     "metadata": {},
     "output_type": "execute_result"
    }
   ],
   "source": [
    "y.head()"
   ]
  },
  {
   "cell_type": "markdown",
   "metadata": {},
   "source": [
    "Now we will split the data into training data and test data in the ratio of 0.75 to 0.25 respectively."
   ]
  },
  {
   "cell_type": "code",
   "execution_count": 76,
   "metadata": {},
   "outputs": [],
   "source": [
    "from sklearn.model_selection import train_test_split\n",
    "X_train, X_test, y_train, y_test = train_test_split(X, y, test_size = 0.25,random_state = 1)"
   ]
  },
  {
   "cell_type": "code",
   "execution_count": 77,
   "metadata": {},
   "outputs": [
    {
     "data": {
      "text/plain": [
       "(73765, 132)"
      ]
     },
     "execution_count": 77,
     "metadata": {},
     "output_type": "execute_result"
    }
   ],
   "source": [
    "X_train.shape"
   ]
  },
  {
   "cell_type": "code",
   "execution_count": 78,
   "metadata": {},
   "outputs": [
    {
     "data": {
      "text/plain": [
       "(24589, 132)"
      ]
     },
     "execution_count": 78,
     "metadata": {},
     "output_type": "execute_result"
    }
   ],
   "source": [
    "X_test.shape"
   ]
  },
  {
   "cell_type": "code",
   "execution_count": 79,
   "metadata": {},
   "outputs": [
    {
     "data": {
      "text/plain": [
       "1    41067\n",
       "0    32698\n",
       "Name: booked, dtype: int64"
      ]
     },
     "execution_count": 79,
     "metadata": {},
     "output_type": "execute_result"
    }
   ],
   "source": [
    "y_train.value_counts()"
   ]
  },
  {
   "cell_type": "code",
   "execution_count": 80,
   "metadata": {},
   "outputs": [
    {
     "data": {
      "text/plain": [
       "1    13620\n",
       "0    10969\n",
       "Name: booked, dtype: int64"
      ]
     },
     "execution_count": 80,
     "metadata": {},
     "output_type": "execute_result"
    }
   ],
   "source": [
    "y_test.value_counts()"
   ]
  },
  {
   "cell_type": "code",
   "execution_count": 81,
   "metadata": {},
   "outputs": [
    {
     "data": {
      "text/html": [
       "<div>\n",
       "<style scoped>\n",
       "    .dataframe tbody tr th:only-of-type {\n",
       "        vertical-align: middle;\n",
       "    }\n",
       "\n",
       "    .dataframe tbody tr th {\n",
       "        vertical-align: top;\n",
       "    }\n",
       "\n",
       "    .dataframe thead th {\n",
       "        text-align: right;\n",
       "    }\n",
       "</style>\n",
       "<table border=\"1\" class=\"dataframe\">\n",
       "  <thead>\n",
       "    <tr style=\"text-align: right;\">\n",
       "      <th></th>\n",
       "      <th>api_partner</th>\n",
       "      <th>concierge</th>\n",
       "      <th>google</th>\n",
       "      <th>ios</th>\n",
       "      <th>web</th>\n",
       "      <th>AGE</th>\n",
       "      <th>duration</th>\n",
       "      <th>r_retaurant_name_null</th>\n",
       "      <th>r_Barbeque Nation</th>\n",
       "      <th>r_AB's - Absolute Barbecues</th>\n",
       "      <th>...</th>\n",
       "      <th>C_Mangalore</th>\n",
       "      <th>C_Nagpur</th>\n",
       "      <th>C_Nellore</th>\n",
       "      <th>C_Jalandhar</th>\n",
       "      <th>C_Agra</th>\n",
       "      <th>C_Dehradun</th>\n",
       "      <th>C_Vellore</th>\n",
       "      <th>C_Jammu</th>\n",
       "      <th>C_Prayagraj</th>\n",
       "      <th>C_Kolhapur</th>\n",
       "    </tr>\n",
       "  </thead>\n",
       "  <tbody>\n",
       "    <tr>\n",
       "      <th>82538</th>\n",
       "      <td>0</td>\n",
       "      <td>0</td>\n",
       "      <td>1</td>\n",
       "      <td>0</td>\n",
       "      <td>0</td>\n",
       "      <td>50</td>\n",
       "      <td>22</td>\n",
       "      <td>0</td>\n",
       "      <td>0</td>\n",
       "      <td>0</td>\n",
       "      <td>...</td>\n",
       "      <td>0</td>\n",
       "      <td>0</td>\n",
       "      <td>0</td>\n",
       "      <td>0</td>\n",
       "      <td>0</td>\n",
       "      <td>0</td>\n",
       "      <td>0</td>\n",
       "      <td>0</td>\n",
       "      <td>0</td>\n",
       "      <td>0</td>\n",
       "    </tr>\n",
       "    <tr>\n",
       "      <th>58777</th>\n",
       "      <td>0</td>\n",
       "      <td>0</td>\n",
       "      <td>1</td>\n",
       "      <td>0</td>\n",
       "      <td>0</td>\n",
       "      <td>35</td>\n",
       "      <td>1</td>\n",
       "      <td>0</td>\n",
       "      <td>0</td>\n",
       "      <td>0</td>\n",
       "      <td>...</td>\n",
       "      <td>0</td>\n",
       "      <td>0</td>\n",
       "      <td>0</td>\n",
       "      <td>0</td>\n",
       "      <td>0</td>\n",
       "      <td>0</td>\n",
       "      <td>0</td>\n",
       "      <td>0</td>\n",
       "      <td>0</td>\n",
       "      <td>0</td>\n",
       "    </tr>\n",
       "    <tr>\n",
       "      <th>32085</th>\n",
       "      <td>0</td>\n",
       "      <td>0</td>\n",
       "      <td>1</td>\n",
       "      <td>0</td>\n",
       "      <td>0</td>\n",
       "      <td>47</td>\n",
       "      <td>8</td>\n",
       "      <td>1</td>\n",
       "      <td>0</td>\n",
       "      <td>0</td>\n",
       "      <td>...</td>\n",
       "      <td>0</td>\n",
       "      <td>0</td>\n",
       "      <td>0</td>\n",
       "      <td>0</td>\n",
       "      <td>0</td>\n",
       "      <td>0</td>\n",
       "      <td>0</td>\n",
       "      <td>0</td>\n",
       "      <td>0</td>\n",
       "      <td>0</td>\n",
       "    </tr>\n",
       "    <tr>\n",
       "      <th>10606</th>\n",
       "      <td>0</td>\n",
       "      <td>0</td>\n",
       "      <td>1</td>\n",
       "      <td>0</td>\n",
       "      <td>0</td>\n",
       "      <td>46</td>\n",
       "      <td>61</td>\n",
       "      <td>0</td>\n",
       "      <td>1</td>\n",
       "      <td>0</td>\n",
       "      <td>...</td>\n",
       "      <td>0</td>\n",
       "      <td>0</td>\n",
       "      <td>0</td>\n",
       "      <td>0</td>\n",
       "      <td>0</td>\n",
       "      <td>0</td>\n",
       "      <td>0</td>\n",
       "      <td>0</td>\n",
       "      <td>0</td>\n",
       "      <td>0</td>\n",
       "    </tr>\n",
       "    <tr>\n",
       "      <th>23317</th>\n",
       "      <td>0</td>\n",
       "      <td>0</td>\n",
       "      <td>1</td>\n",
       "      <td>0</td>\n",
       "      <td>0</td>\n",
       "      <td>54</td>\n",
       "      <td>4</td>\n",
       "      <td>0</td>\n",
       "      <td>1</td>\n",
       "      <td>0</td>\n",
       "      <td>...</td>\n",
       "      <td>0</td>\n",
       "      <td>0</td>\n",
       "      <td>0</td>\n",
       "      <td>0</td>\n",
       "      <td>0</td>\n",
       "      <td>0</td>\n",
       "      <td>0</td>\n",
       "      <td>0</td>\n",
       "      <td>0</td>\n",
       "      <td>0</td>\n",
       "    </tr>\n",
       "  </tbody>\n",
       "</table>\n",
       "<p>5 rows × 132 columns</p>\n",
       "</div>"
      ],
      "text/plain": [
       "       api_partner  concierge  google  ios  web  AGE  duration  \\\n",
       "82538            0          0       1    0    0   50        22   \n",
       "58777            0          0       1    0    0   35         1   \n",
       "32085            0          0       1    0    0   47         8   \n",
       "10606            0          0       1    0    0   46        61   \n",
       "23317            0          0       1    0    0   54         4   \n",
       "\n",
       "       r_retaurant_name_null  r_Barbeque Nation  r_AB's - Absolute Barbecues  \\\n",
       "82538                      0                  0                            0   \n",
       "58777                      0                  0                            0   \n",
       "32085                      1                  0                            0   \n",
       "10606                      0                  1                            0   \n",
       "23317                      0                  1                            0   \n",
       "\n",
       "       ...  C_Mangalore  C_Nagpur  C_Nellore  C_Jalandhar  C_Agra  C_Dehradun  \\\n",
       "82538  ...            0         0          0            0       0           0   \n",
       "58777  ...            0         0          0            0       0           0   \n",
       "32085  ...            0         0          0            0       0           0   \n",
       "10606  ...            0         0          0            0       0           0   \n",
       "23317  ...            0         0          0            0       0           0   \n",
       "\n",
       "       C_Vellore  C_Jammu  C_Prayagraj  C_Kolhapur  \n",
       "82538          0        0            0           0  \n",
       "58777          0        0            0           0  \n",
       "32085          0        0            0           0  \n",
       "10606          0        0            0           0  \n",
       "23317          0        0            0           0  \n",
       "\n",
       "[5 rows x 132 columns]"
      ]
     },
     "execution_count": 81,
     "metadata": {},
     "output_type": "execute_result"
    }
   ],
   "source": [
    "X_train.head()"
   ]
  },
  {
   "cell_type": "code",
   "execution_count": 82,
   "metadata": {},
   "outputs": [
    {
     "data": {
      "text/plain": [
       "60439    1\n",
       "15758    0\n",
       "48764    0\n",
       "59580    0\n",
       "62844    0\n",
       "Name: booked, dtype: int32"
      ]
     },
     "execution_count": 82,
     "metadata": {},
     "output_type": "execute_result"
    }
   ],
   "source": [
    "y_test.head()"
   ]
  },
  {
   "cell_type": "markdown",
   "metadata": {},
   "source": [
    "Here we can easily observe that we have to essentially perform classification and hence to get a more stable and accurate prediction we will use random forest classifier."
   ]
  },
  {
   "cell_type": "code",
   "execution_count": 83,
   "metadata": {},
   "outputs": [
    {
     "data": {
      "text/plain": [
       "RandomForestClassifier(random_state=1)"
      ]
     },
     "execution_count": 83,
     "metadata": {},
     "output_type": "execute_result"
    }
   ],
   "source": [
    "from sklearn.ensemble import RandomForestClassifier\n",
    "classifier = RandomForestClassifier(random_state=1)\n",
    "classifier.fit(X_train, y_train)"
   ]
  },
  {
   "cell_type": "markdown",
   "metadata": {},
   "source": [
    "According to the problem statement ,if the probability of a person bookin within 7 days after signing up is greater than 20% we will put him/her in a 1 bucket else in the 0 bucket. Hence, the lower limit is 0.2."
   ]
  },
  {
   "cell_type": "code",
   "execution_count": 84,
   "metadata": {},
   "outputs": [],
   "source": [
    "prob_preds = classifier.predict_proba(X_test)\n",
    "lower_limit = 0.2\n",
    "y_pred = [1 if prob_preds[i][1]>= lower_limit else 0 for i in range(len(prob_preds))]"
   ]
  },
  {
   "cell_type": "markdown",
   "metadata": {},
   "source": [
    "Now we will create a confusion matrix to get the accuracy score."
   ]
  },
  {
   "cell_type": "code",
   "execution_count": 85,
   "metadata": {},
   "outputs": [
    {
     "name": "stdout",
     "output_type": "stream",
     "text": [
      "[[10951    18]\n",
      " [    0 13620]]\n",
      "Accuracy : 0.9992679653503599\n"
     ]
    }
   ],
   "source": [
    "from sklearn.metrics import confusion_matrix, accuracy_score, classification_report\n",
    "cm = confusion_matrix(y_test, y_pred)\n",
    "print(cm)\n",
    "print('Accuracy : {}'.format(accuracy_score(y_test, y_pred)))"
   ]
  },
  {
   "cell_type": "code",
   "execution_count": 86,
   "metadata": {},
   "outputs": [
    {
     "name": "stdout",
     "output_type": "stream",
     "text": [
      "Accuracy: 1.0 \n",
      "Standard Deviation: 0.0\n"
     ]
    }
   ],
   "source": [
    "from sklearn.model_selection import cross_val_score\n",
    "accuracies = cross_val_score(estimator = classifier, X = X_train, y = y_train, cv = 100)\n",
    "print(\"Accuracy: {} \".format(accuracies.mean()))\n",
    "print(\"Standard Deviation: {}\".format(accuracies.std()))"
   ]
  },
  {
   "cell_type": "code",
   "execution_count": 87,
   "metadata": {},
   "outputs": [
    {
     "data": {
      "image/png": "[encoded data removed]",
      "text/plain": [
       "<Figure size 432x288 with 2 Axes>"
      ]
     },
     "metadata": {
      "needs_background": "light"
     },
     "output_type": "display_data"
    }
   ],
   "source": [
    "skplt.metrics.plot_confusion_matrix(y_test,y_pred)\n",
    "plt.show()"
   ]
  },
  {
   "cell_type": "code",
   "execution_count": 88,
   "metadata": {},
   "outputs": [
    {
     "name": "stdout",
     "output_type": "stream",
     "text": [
      "              precision    recall  f1-score   support\n",
      "\n",
      "           0       1.00      1.00      1.00     10969\n",
      "           1       1.00      1.00      1.00     13620\n",
      "\n",
      "    accuracy                           1.00     24589\n",
      "   macro avg       1.00      1.00      1.00     24589\n",
      "weighted avg       1.00      1.00      1.00     24589\n",
      "\n"
     ]
    }
   ],
   "source": [
    "print(classification_report(y_test, y_pred))"
   ]
  },
  {
   "cell_type": "markdown",
   "metadata": {},
   "source": [
    "Hence we can see that our random forest classification model is successfull with a prediction accuracy of 0.9926 and hence we can predict whether a person who signs up with eazydiner will make a booking within 7 days or not."
   ]
  },
  {
   "cell_type": "code",
   "execution_count": null,
   "metadata": {},
   "outputs": [],
   "source": []
  }
 ],
 "metadata": {
  "kernelspec": {
   "display_name": "Python 3",
   "language": "python",
   "name": "python3"
  },
  "language_info": {
   "codemirror_mode": {
    "name": "ipython",
    "version": 3
   },
   "file_extension": ".py",
   "mimetype": "text/x-python",
   "name": "python",
   "nbconvert_exporter": "python",
   "pygments_lexer": "ipython3",
   "version": "3.8.3"
  }
 },
 "nbformat": 4,
 "nbformat_minor": 4
}
